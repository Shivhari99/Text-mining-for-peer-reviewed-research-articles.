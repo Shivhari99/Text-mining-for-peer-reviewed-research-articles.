{
  "nbformat": 4,
  "nbformat_minor": 0,
  "metadata": {
    "colab": {
      "name": "Sub_Task_2_Text_Classification_Peer_Reviews.ipynb",
      "provenance": [],
      "collapsed_sections": []
    },
    "kernelspec": {
      "name": "python3",
      "display_name": "Python 3"
    },
    "language_info": {
      "name": "python"
    }
  },
  "cells": [
    {
      "cell_type": "markdown",
      "source": [
        "# Importing Libraries"
      ],
      "metadata": {
        "id": "UCO4bboWwfhy"
      }
    },
    {
      "cell_type": "code",
      "execution_count": 3,
      "metadata": {
        "id": "Zm-ewhLNFJ_C"
      },
      "outputs": [],
      "source": [
        "import pandas as pd\n",
        "import numpy as np\n",
        "import matplotlib.pyplot as plt\n",
        "import seaborn as sns\n",
        "from sklearn.model_selection import train_test_split\n",
        "from sklearn.preprocessing import LabelEncoder\n",
        "from keras.models import Model\n",
        "from keras.layers import LSTM, Activation, Dense, Dropout, Input, Embedding\n",
        "from keras.preprocessing.text import Tokenizer\n",
        "from keras.preprocessing import sequence\n",
        "from tensorflow.keras.utils import to_categorical\n",
        "from keras.callbacks import EarlyStopping\n",
        "%matplotlib inline"
      ]
    },
    {
      "cell_type": "markdown",
      "source": [
        "# Calling the dataset and Its preparation"
      ],
      "metadata": {
        "id": "5aGBUYonyO3C"
      }
    },
    {
      "cell_type": "code",
      "source": [
        "data =  pd.read_csv(\"processed_reviews_split_surnamesNOPQ_minimal.csv\")\n",
        "data.head(10)"
      ],
      "metadata": {
        "colab": {
          "base_uri": "https://localhost:8080/",
          "height": 363
        },
        "id": "3zGku7QQxoac",
        "outputId": "ab8be45f-7bef-47ca-822a-156b5c6b3048"
      },
      "execution_count": 10,
      "outputs": [
        {
          "output_type": "execute_result",
          "data": {
            "text/plain": [
              "          review_id                                               text  \\\n",
              "0  iclr_review_0000  LEARNED STEP SIZE QUANTIZATION. Deep networks ...   \n",
              "1  iclr_review_0001  Extrapolation and learning equations. In class...   \n",
              "2  iclr_review_0002  Relational Multi-Instance Learning for Concept...   \n",
              "3  iclr_review_0003  Analysis of Memory Organization for Dynamic Ne...   \n",
              "4  iclr_review_0004  Learning Graph Representations by Dendrograms....   \n",
              "5  iclr_review_0005  On the Computational Inefficiency of Large Bat...   \n",
              "6  iclr_review_0006  Improving Invariance and Equivariance Properti...   \n",
              "7  iclr_review_0007  Domain Aggregation Networks for Multi-Source D...   \n",
              "8  iclr_review_0008                                         #. #. #. #   \n",
              "9  iclr_review_0009  Few-Shot Intent Inference via Meta-Inverse Rei...   \n",
              "\n",
              "   confidence_score  review_score acceptance_status  \n",
              "0               NaN           6.0            Accept  \n",
              "1               4.0           7.0            Accept  \n",
              "2               4.0           6.0            Reject  \n",
              "3               5.0           3.0            Reject  \n",
              "4               4.0           5.0            Reject  \n",
              "5               3.0           5.0            Reject  \n",
              "6               5.0           4.0            Reject  \n",
              "7               NaN           6.0            Reject  \n",
              "8               NaN           3.0            Reject  \n",
              "9               5.0           3.0            Reject  "
            ],
            "text/html": [
              "\n",
              "  <div id=\"df-2d6ccd94-3d09-425c-b994-b7a680e7325d\">\n",
              "    <div class=\"colab-df-container\">\n",
              "      <div>\n",
              "<style scoped>\n",
              "    .dataframe tbody tr th:only-of-type {\n",
              "        vertical-align: middle;\n",
              "    }\n",
              "\n",
              "    .dataframe tbody tr th {\n",
              "        vertical-align: top;\n",
              "    }\n",
              "\n",
              "    .dataframe thead th {\n",
              "        text-align: right;\n",
              "    }\n",
              "</style>\n",
              "<table border=\"1\" class=\"dataframe\">\n",
              "  <thead>\n",
              "    <tr style=\"text-align: right;\">\n",
              "      <th></th>\n",
              "      <th>review_id</th>\n",
              "      <th>text</th>\n",
              "      <th>confidence_score</th>\n",
              "      <th>review_score</th>\n",
              "      <th>acceptance_status</th>\n",
              "    </tr>\n",
              "  </thead>\n",
              "  <tbody>\n",
              "    <tr>\n",
              "      <th>0</th>\n",
              "      <td>iclr_review_0000</td>\n",
              "      <td>LEARNED STEP SIZE QUANTIZATION. Deep networks ...</td>\n",
              "      <td>NaN</td>\n",
              "      <td>6.0</td>\n",
              "      <td>Accept</td>\n",
              "    </tr>\n",
              "    <tr>\n",
              "      <th>1</th>\n",
              "      <td>iclr_review_0001</td>\n",
              "      <td>Extrapolation and learning equations. In class...</td>\n",
              "      <td>4.0</td>\n",
              "      <td>7.0</td>\n",
              "      <td>Accept</td>\n",
              "    </tr>\n",
              "    <tr>\n",
              "      <th>2</th>\n",
              "      <td>iclr_review_0002</td>\n",
              "      <td>Relational Multi-Instance Learning for Concept...</td>\n",
              "      <td>4.0</td>\n",
              "      <td>6.0</td>\n",
              "      <td>Reject</td>\n",
              "    </tr>\n",
              "    <tr>\n",
              "      <th>3</th>\n",
              "      <td>iclr_review_0003</td>\n",
              "      <td>Analysis of Memory Organization for Dynamic Ne...</td>\n",
              "      <td>5.0</td>\n",
              "      <td>3.0</td>\n",
              "      <td>Reject</td>\n",
              "    </tr>\n",
              "    <tr>\n",
              "      <th>4</th>\n",
              "      <td>iclr_review_0004</td>\n",
              "      <td>Learning Graph Representations by Dendrograms....</td>\n",
              "      <td>4.0</td>\n",
              "      <td>5.0</td>\n",
              "      <td>Reject</td>\n",
              "    </tr>\n",
              "    <tr>\n",
              "      <th>5</th>\n",
              "      <td>iclr_review_0005</td>\n",
              "      <td>On the Computational Inefficiency of Large Bat...</td>\n",
              "      <td>3.0</td>\n",
              "      <td>5.0</td>\n",
              "      <td>Reject</td>\n",
              "    </tr>\n",
              "    <tr>\n",
              "      <th>6</th>\n",
              "      <td>iclr_review_0006</td>\n",
              "      <td>Improving Invariance and Equivariance Properti...</td>\n",
              "      <td>5.0</td>\n",
              "      <td>4.0</td>\n",
              "      <td>Reject</td>\n",
              "    </tr>\n",
              "    <tr>\n",
              "      <th>7</th>\n",
              "      <td>iclr_review_0007</td>\n",
              "      <td>Domain Aggregation Networks for Multi-Source D...</td>\n",
              "      <td>NaN</td>\n",
              "      <td>6.0</td>\n",
              "      <td>Reject</td>\n",
              "    </tr>\n",
              "    <tr>\n",
              "      <th>8</th>\n",
              "      <td>iclr_review_0008</td>\n",
              "      <td>#. #. #. #</td>\n",
              "      <td>NaN</td>\n",
              "      <td>3.0</td>\n",
              "      <td>Reject</td>\n",
              "    </tr>\n",
              "    <tr>\n",
              "      <th>9</th>\n",
              "      <td>iclr_review_0009</td>\n",
              "      <td>Few-Shot Intent Inference via Meta-Inverse Rei...</td>\n",
              "      <td>5.0</td>\n",
              "      <td>3.0</td>\n",
              "      <td>Reject</td>\n",
              "    </tr>\n",
              "  </tbody>\n",
              "</table>\n",
              "</div>\n",
              "      <button class=\"colab-df-convert\" onclick=\"convertToInteractive('df-2d6ccd94-3d09-425c-b994-b7a680e7325d')\"\n",
              "              title=\"Convert this dataframe to an interactive table.\"\n",
              "              style=\"display:none;\">\n",
              "        \n",
              "  <svg xmlns=\"http://www.w3.org/2000/svg\" height=\"24px\"viewBox=\"0 0 24 24\"\n",
              "       width=\"24px\">\n",
              "    <path d=\"M0 0h24v24H0V0z\" fill=\"none\"/>\n",
              "    <path d=\"M18.56 5.44l.94 2.06.94-2.06 2.06-.94-2.06-.94-.94-2.06-.94 2.06-2.06.94zm-11 1L8.5 8.5l.94-2.06 2.06-.94-2.06-.94L8.5 2.5l-.94 2.06-2.06.94zm10 10l.94 2.06.94-2.06 2.06-.94-2.06-.94-.94-2.06-.94 2.06-2.06.94z\"/><path d=\"M17.41 7.96l-1.37-1.37c-.4-.4-.92-.59-1.43-.59-.52 0-1.04.2-1.43.59L10.3 9.45l-7.72 7.72c-.78.78-.78 2.05 0 2.83L4 21.41c.39.39.9.59 1.41.59.51 0 1.02-.2 1.41-.59l7.78-7.78 2.81-2.81c.8-.78.8-2.07 0-2.86zM5.41 20L4 18.59l7.72-7.72 1.47 1.35L5.41 20z\"/>\n",
              "  </svg>\n",
              "      </button>\n",
              "      \n",
              "  <style>\n",
              "    .colab-df-container {\n",
              "      display:flex;\n",
              "      flex-wrap:wrap;\n",
              "      gap: 12px;\n",
              "    }\n",
              "\n",
              "    .colab-df-convert {\n",
              "      background-color: #E8F0FE;\n",
              "      border: none;\n",
              "      border-radius: 50%;\n",
              "      cursor: pointer;\n",
              "      display: none;\n",
              "      fill: #1967D2;\n",
              "      height: 32px;\n",
              "      padding: 0 0 0 0;\n",
              "      width: 32px;\n",
              "    }\n",
              "\n",
              "    .colab-df-convert:hover {\n",
              "      background-color: #E2EBFA;\n",
              "      box-shadow: 0px 1px 2px rgba(60, 64, 67, 0.3), 0px 1px 3px 1px rgba(60, 64, 67, 0.15);\n",
              "      fill: #174EA6;\n",
              "    }\n",
              "\n",
              "    [theme=dark] .colab-df-convert {\n",
              "      background-color: #3B4455;\n",
              "      fill: #D2E3FC;\n",
              "    }\n",
              "\n",
              "    [theme=dark] .colab-df-convert:hover {\n",
              "      background-color: #434B5C;\n",
              "      box-shadow: 0px 1px 3px 1px rgba(0, 0, 0, 0.15);\n",
              "      filter: drop-shadow(0px 1px 2px rgba(0, 0, 0, 0.3));\n",
              "      fill: #FFFFFF;\n",
              "    }\n",
              "  </style>\n",
              "\n",
              "      <script>\n",
              "        const buttonEl =\n",
              "          document.querySelector('#df-2d6ccd94-3d09-425c-b994-b7a680e7325d button.colab-df-convert');\n",
              "        buttonEl.style.display =\n",
              "          google.colab.kernel.accessAllowed ? 'block' : 'none';\n",
              "\n",
              "        async function convertToInteractive(key) {\n",
              "          const element = document.querySelector('#df-2d6ccd94-3d09-425c-b994-b7a680e7325d');\n",
              "          const dataTable =\n",
              "            await google.colab.kernel.invokeFunction('convertToInteractive',\n",
              "                                                     [key], {});\n",
              "          if (!dataTable) return;\n",
              "\n",
              "          const docLinkHtml = 'Like what you see? Visit the ' +\n",
              "            '<a target=\"_blank\" href=https://colab.research.google.com/notebooks/data_table.ipynb>data table notebook</a>'\n",
              "            + ' to learn more about interactive tables.';\n",
              "          element.innerHTML = '';\n",
              "          dataTable['output_type'] = 'display_data';\n",
              "          await google.colab.output.renderOutput(dataTable, element);\n",
              "          const docLink = document.createElement('div');\n",
              "          docLink.innerHTML = docLinkHtml;\n",
              "          element.appendChild(docLink);\n",
              "        }\n",
              "      </script>\n",
              "    </div>\n",
              "  </div>\n",
              "  "
            ]
          },
          "metadata": {},
          "execution_count": 10
        }
      ]
    },
    {
      "cell_type": "code",
      "source": [
        "data.tail(10)"
      ],
      "metadata": {
        "colab": {
          "base_uri": "https://localhost:8080/",
          "height": 363
        },
        "id": "Aa16WBXgzaIW",
        "outputId": "2521b2e0-4cf2-4165-fedb-c5b35043a721"
      },
      "execution_count": 11,
      "outputs": [
        {
          "output_type": "execute_result",
          "data": {
            "text/plain": [
              "             review_id                                               text  \\\n",
              "6108  iclr_review_6108  PROTOTYPE-ASSISTED ADVERSARIAL LEARNING FOR UN...   \n",
              "6109  iclr_review_6109  Do recent advancements in model-based deep rei...   \n",
              "6110  iclr_review_6110  Interpretations are useful: penalizing explana...   \n",
              "6111  iclr_review_6111  Towards Simplicity in Deep Reinforcement Learn...   \n",
              "6112  iclr_review_6112  Adapting to Label Shift with Bias-Corrected Ca...   \n",
              "6113  iclr_review_6113  BAIL: Best-Action Imitation Learning for Batch...   \n",
              "6114  iclr_review_6114  INTERNAL-CONSISTENCY CONSTRAINTS FOR EMERGENT ...   \n",
              "6115  iclr_review_6115  Deep Neural Networks and the Tree of Life. In ...   \n",
              "6116  iclr_review_6116  AdaScale SGD: A Scale-Invariant Algorithm for ...   \n",
              "6117  iclr_review_6117  Exploring Deep Recurrent Models with Reinforce...   \n",
              "\n",
              "      confidence_score  review_score acceptance_status  \n",
              "6108               NaN           3.0            Reject  \n",
              "6109               NaN           3.0            Reject  \n",
              "6110               NaN           3.0            Reject  \n",
              "6111               NaN           3.0            Reject  \n",
              "6112               NaN           6.0            Reject  \n",
              "6113               NaN           1.0            Reject  \n",
              "6114               NaN           3.0            Reject  \n",
              "6115               4.0           4.0            Reject  \n",
              "6116               NaN           3.0            Reject  \n",
              "6117               3.0          -1.0            Accept  "
            ],
            "text/html": [
              "\n",
              "  <div id=\"df-7fd2d5e0-cf24-4eb1-9cde-0bef84cf8300\">\n",
              "    <div class=\"colab-df-container\">\n",
              "      <div>\n",
              "<style scoped>\n",
              "    .dataframe tbody tr th:only-of-type {\n",
              "        vertical-align: middle;\n",
              "    }\n",
              "\n",
              "    .dataframe tbody tr th {\n",
              "        vertical-align: top;\n",
              "    }\n",
              "\n",
              "    .dataframe thead th {\n",
              "        text-align: right;\n",
              "    }\n",
              "</style>\n",
              "<table border=\"1\" class=\"dataframe\">\n",
              "  <thead>\n",
              "    <tr style=\"text-align: right;\">\n",
              "      <th></th>\n",
              "      <th>review_id</th>\n",
              "      <th>text</th>\n",
              "      <th>confidence_score</th>\n",
              "      <th>review_score</th>\n",
              "      <th>acceptance_status</th>\n",
              "    </tr>\n",
              "  </thead>\n",
              "  <tbody>\n",
              "    <tr>\n",
              "      <th>6108</th>\n",
              "      <td>iclr_review_6108</td>\n",
              "      <td>PROTOTYPE-ASSISTED ADVERSARIAL LEARNING FOR UN...</td>\n",
              "      <td>NaN</td>\n",
              "      <td>3.0</td>\n",
              "      <td>Reject</td>\n",
              "    </tr>\n",
              "    <tr>\n",
              "      <th>6109</th>\n",
              "      <td>iclr_review_6109</td>\n",
              "      <td>Do recent advancements in model-based deep rei...</td>\n",
              "      <td>NaN</td>\n",
              "      <td>3.0</td>\n",
              "      <td>Reject</td>\n",
              "    </tr>\n",
              "    <tr>\n",
              "      <th>6110</th>\n",
              "      <td>iclr_review_6110</td>\n",
              "      <td>Interpretations are useful: penalizing explana...</td>\n",
              "      <td>NaN</td>\n",
              "      <td>3.0</td>\n",
              "      <td>Reject</td>\n",
              "    </tr>\n",
              "    <tr>\n",
              "      <th>6111</th>\n",
              "      <td>iclr_review_6111</td>\n",
              "      <td>Towards Simplicity in Deep Reinforcement Learn...</td>\n",
              "      <td>NaN</td>\n",
              "      <td>3.0</td>\n",
              "      <td>Reject</td>\n",
              "    </tr>\n",
              "    <tr>\n",
              "      <th>6112</th>\n",
              "      <td>iclr_review_6112</td>\n",
              "      <td>Adapting to Label Shift with Bias-Corrected Ca...</td>\n",
              "      <td>NaN</td>\n",
              "      <td>6.0</td>\n",
              "      <td>Reject</td>\n",
              "    </tr>\n",
              "    <tr>\n",
              "      <th>6113</th>\n",
              "      <td>iclr_review_6113</td>\n",
              "      <td>BAIL: Best-Action Imitation Learning for Batch...</td>\n",
              "      <td>NaN</td>\n",
              "      <td>1.0</td>\n",
              "      <td>Reject</td>\n",
              "    </tr>\n",
              "    <tr>\n",
              "      <th>6114</th>\n",
              "      <td>iclr_review_6114</td>\n",
              "      <td>INTERNAL-CONSISTENCY CONSTRAINTS FOR EMERGENT ...</td>\n",
              "      <td>NaN</td>\n",
              "      <td>3.0</td>\n",
              "      <td>Reject</td>\n",
              "    </tr>\n",
              "    <tr>\n",
              "      <th>6115</th>\n",
              "      <td>iclr_review_6115</td>\n",
              "      <td>Deep Neural Networks and the Tree of Life. In ...</td>\n",
              "      <td>4.0</td>\n",
              "      <td>4.0</td>\n",
              "      <td>Reject</td>\n",
              "    </tr>\n",
              "    <tr>\n",
              "      <th>6116</th>\n",
              "      <td>iclr_review_6116</td>\n",
              "      <td>AdaScale SGD: A Scale-Invariant Algorithm for ...</td>\n",
              "      <td>NaN</td>\n",
              "      <td>3.0</td>\n",
              "      <td>Reject</td>\n",
              "    </tr>\n",
              "    <tr>\n",
              "      <th>6117</th>\n",
              "      <td>iclr_review_6117</td>\n",
              "      <td>Exploring Deep Recurrent Models with Reinforce...</td>\n",
              "      <td>3.0</td>\n",
              "      <td>-1.0</td>\n",
              "      <td>Accept</td>\n",
              "    </tr>\n",
              "  </tbody>\n",
              "</table>\n",
              "</div>\n",
              "      <button class=\"colab-df-convert\" onclick=\"convertToInteractive('df-7fd2d5e0-cf24-4eb1-9cde-0bef84cf8300')\"\n",
              "              title=\"Convert this dataframe to an interactive table.\"\n",
              "              style=\"display:none;\">\n",
              "        \n",
              "  <svg xmlns=\"http://www.w3.org/2000/svg\" height=\"24px\"viewBox=\"0 0 24 24\"\n",
              "       width=\"24px\">\n",
              "    <path d=\"M0 0h24v24H0V0z\" fill=\"none\"/>\n",
              "    <path d=\"M18.56 5.44l.94 2.06.94-2.06 2.06-.94-2.06-.94-.94-2.06-.94 2.06-2.06.94zm-11 1L8.5 8.5l.94-2.06 2.06-.94-2.06-.94L8.5 2.5l-.94 2.06-2.06.94zm10 10l.94 2.06.94-2.06 2.06-.94-2.06-.94-.94-2.06-.94 2.06-2.06.94z\"/><path d=\"M17.41 7.96l-1.37-1.37c-.4-.4-.92-.59-1.43-.59-.52 0-1.04.2-1.43.59L10.3 9.45l-7.72 7.72c-.78.78-.78 2.05 0 2.83L4 21.41c.39.39.9.59 1.41.59.51 0 1.02-.2 1.41-.59l7.78-7.78 2.81-2.81c.8-.78.8-2.07 0-2.86zM5.41 20L4 18.59l7.72-7.72 1.47 1.35L5.41 20z\"/>\n",
              "  </svg>\n",
              "      </button>\n",
              "      \n",
              "  <style>\n",
              "    .colab-df-container {\n",
              "      display:flex;\n",
              "      flex-wrap:wrap;\n",
              "      gap: 12px;\n",
              "    }\n",
              "\n",
              "    .colab-df-convert {\n",
              "      background-color: #E8F0FE;\n",
              "      border: none;\n",
              "      border-radius: 50%;\n",
              "      cursor: pointer;\n",
              "      display: none;\n",
              "      fill: #1967D2;\n",
              "      height: 32px;\n",
              "      padding: 0 0 0 0;\n",
              "      width: 32px;\n",
              "    }\n",
              "\n",
              "    .colab-df-convert:hover {\n",
              "      background-color: #E2EBFA;\n",
              "      box-shadow: 0px 1px 2px rgba(60, 64, 67, 0.3), 0px 1px 3px 1px rgba(60, 64, 67, 0.15);\n",
              "      fill: #174EA6;\n",
              "    }\n",
              "\n",
              "    [theme=dark] .colab-df-convert {\n",
              "      background-color: #3B4455;\n",
              "      fill: #D2E3FC;\n",
              "    }\n",
              "\n",
              "    [theme=dark] .colab-df-convert:hover {\n",
              "      background-color: #434B5C;\n",
              "      box-shadow: 0px 1px 3px 1px rgba(0, 0, 0, 0.15);\n",
              "      filter: drop-shadow(0px 1px 2px rgba(0, 0, 0, 0.3));\n",
              "      fill: #FFFFFF;\n",
              "    }\n",
              "  </style>\n",
              "\n",
              "      <script>\n",
              "        const buttonEl =\n",
              "          document.querySelector('#df-7fd2d5e0-cf24-4eb1-9cde-0bef84cf8300 button.colab-df-convert');\n",
              "        buttonEl.style.display =\n",
              "          google.colab.kernel.accessAllowed ? 'block' : 'none';\n",
              "\n",
              "        async function convertToInteractive(key) {\n",
              "          const element = document.querySelector('#df-7fd2d5e0-cf24-4eb1-9cde-0bef84cf8300');\n",
              "          const dataTable =\n",
              "            await google.colab.kernel.invokeFunction('convertToInteractive',\n",
              "                                                     [key], {});\n",
              "          if (!dataTable) return;\n",
              "\n",
              "          const docLinkHtml = 'Like what you see? Visit the ' +\n",
              "            '<a target=\"_blank\" href=https://colab.research.google.com/notebooks/data_table.ipynb>data table notebook</a>'\n",
              "            + ' to learn more about interactive tables.';\n",
              "          element.innerHTML = '';\n",
              "          dataTable['output_type'] = 'display_data';\n",
              "          await google.colab.output.renderOutput(dataTable, element);\n",
              "          const docLink = document.createElement('div');\n",
              "          docLink.innerHTML = docLinkHtml;\n",
              "          element.appendChild(docLink);\n",
              "        }\n",
              "      </script>\n",
              "    </div>\n",
              "  </div>\n",
              "  "
            ]
          },
          "metadata": {},
          "execution_count": 11
        }
      ]
    },
    {
      "cell_type": "code",
      "source": [
        "data.describe()"
      ],
      "metadata": {
        "colab": {
          "base_uri": "https://localhost:8080/",
          "height": 300
        },
        "id": "5tSv0yJ1zfeC",
        "outputId": "f8a16015-7408-4b13-aa11-cdf508ae9ab6"
      },
      "execution_count": 6,
      "outputs": [
        {
          "output_type": "execute_result",
          "data": {
            "text/plain": [
              "       confidence_score  review_score\n",
              "count       3285.000000    6118.00000\n",
              "mean           3.790563       4.69222\n",
              "std            0.828818       2.16378\n",
              "min            1.000000      -1.00000\n",
              "25%            3.000000       3.00000\n",
              "50%            4.000000       5.00000\n",
              "75%            4.000000       6.00000\n",
              "max            5.000000      10.00000"
            ],
            "text/html": [
              "\n",
              "  <div id=\"df-3f0ff03e-0c11-4317-a5e8-c7b165d8e2fb\">\n",
              "    <div class=\"colab-df-container\">\n",
              "      <div>\n",
              "<style scoped>\n",
              "    .dataframe tbody tr th:only-of-type {\n",
              "        vertical-align: middle;\n",
              "    }\n",
              "\n",
              "    .dataframe tbody tr th {\n",
              "        vertical-align: top;\n",
              "    }\n",
              "\n",
              "    .dataframe thead th {\n",
              "        text-align: right;\n",
              "    }\n",
              "</style>\n",
              "<table border=\"1\" class=\"dataframe\">\n",
              "  <thead>\n",
              "    <tr style=\"text-align: right;\">\n",
              "      <th></th>\n",
              "      <th>confidence_score</th>\n",
              "      <th>review_score</th>\n",
              "    </tr>\n",
              "  </thead>\n",
              "  <tbody>\n",
              "    <tr>\n",
              "      <th>count</th>\n",
              "      <td>3285.000000</td>\n",
              "      <td>6118.00000</td>\n",
              "    </tr>\n",
              "    <tr>\n",
              "      <th>mean</th>\n",
              "      <td>3.790563</td>\n",
              "      <td>4.69222</td>\n",
              "    </tr>\n",
              "    <tr>\n",
              "      <th>std</th>\n",
              "      <td>0.828818</td>\n",
              "      <td>2.16378</td>\n",
              "    </tr>\n",
              "    <tr>\n",
              "      <th>min</th>\n",
              "      <td>1.000000</td>\n",
              "      <td>-1.00000</td>\n",
              "    </tr>\n",
              "    <tr>\n",
              "      <th>25%</th>\n",
              "      <td>3.000000</td>\n",
              "      <td>3.00000</td>\n",
              "    </tr>\n",
              "    <tr>\n",
              "      <th>50%</th>\n",
              "      <td>4.000000</td>\n",
              "      <td>5.00000</td>\n",
              "    </tr>\n",
              "    <tr>\n",
              "      <th>75%</th>\n",
              "      <td>4.000000</td>\n",
              "      <td>6.00000</td>\n",
              "    </tr>\n",
              "    <tr>\n",
              "      <th>max</th>\n",
              "      <td>5.000000</td>\n",
              "      <td>10.00000</td>\n",
              "    </tr>\n",
              "  </tbody>\n",
              "</table>\n",
              "</div>\n",
              "      <button class=\"colab-df-convert\" onclick=\"convertToInteractive('df-3f0ff03e-0c11-4317-a5e8-c7b165d8e2fb')\"\n",
              "              title=\"Convert this dataframe to an interactive table.\"\n",
              "              style=\"display:none;\">\n",
              "        \n",
              "  <svg xmlns=\"http://www.w3.org/2000/svg\" height=\"24px\"viewBox=\"0 0 24 24\"\n",
              "       width=\"24px\">\n",
              "    <path d=\"M0 0h24v24H0V0z\" fill=\"none\"/>\n",
              "    <path d=\"M18.56 5.44l.94 2.06.94-2.06 2.06-.94-2.06-.94-.94-2.06-.94 2.06-2.06.94zm-11 1L8.5 8.5l.94-2.06 2.06-.94-2.06-.94L8.5 2.5l-.94 2.06-2.06.94zm10 10l.94 2.06.94-2.06 2.06-.94-2.06-.94-.94-2.06-.94 2.06-2.06.94z\"/><path d=\"M17.41 7.96l-1.37-1.37c-.4-.4-.92-.59-1.43-.59-.52 0-1.04.2-1.43.59L10.3 9.45l-7.72 7.72c-.78.78-.78 2.05 0 2.83L4 21.41c.39.39.9.59 1.41.59.51 0 1.02-.2 1.41-.59l7.78-7.78 2.81-2.81c.8-.78.8-2.07 0-2.86zM5.41 20L4 18.59l7.72-7.72 1.47 1.35L5.41 20z\"/>\n",
              "  </svg>\n",
              "      </button>\n",
              "      \n",
              "  <style>\n",
              "    .colab-df-container {\n",
              "      display:flex;\n",
              "      flex-wrap:wrap;\n",
              "      gap: 12px;\n",
              "    }\n",
              "\n",
              "    .colab-df-convert {\n",
              "      background-color: #E8F0FE;\n",
              "      border: none;\n",
              "      border-radius: 50%;\n",
              "      cursor: pointer;\n",
              "      display: none;\n",
              "      fill: #1967D2;\n",
              "      height: 32px;\n",
              "      padding: 0 0 0 0;\n",
              "      width: 32px;\n",
              "    }\n",
              "\n",
              "    .colab-df-convert:hover {\n",
              "      background-color: #E2EBFA;\n",
              "      box-shadow: 0px 1px 2px rgba(60, 64, 67, 0.3), 0px 1px 3px 1px rgba(60, 64, 67, 0.15);\n",
              "      fill: #174EA6;\n",
              "    }\n",
              "\n",
              "    [theme=dark] .colab-df-convert {\n",
              "      background-color: #3B4455;\n",
              "      fill: #D2E3FC;\n",
              "    }\n",
              "\n",
              "    [theme=dark] .colab-df-convert:hover {\n",
              "      background-color: #434B5C;\n",
              "      box-shadow: 0px 1px 3px 1px rgba(0, 0, 0, 0.15);\n",
              "      filter: drop-shadow(0px 1px 2px rgba(0, 0, 0, 0.3));\n",
              "      fill: #FFFFFF;\n",
              "    }\n",
              "  </style>\n",
              "\n",
              "      <script>\n",
              "        const buttonEl =\n",
              "          document.querySelector('#df-3f0ff03e-0c11-4317-a5e8-c7b165d8e2fb button.colab-df-convert');\n",
              "        buttonEl.style.display =\n",
              "          google.colab.kernel.accessAllowed ? 'block' : 'none';\n",
              "\n",
              "        async function convertToInteractive(key) {\n",
              "          const element = document.querySelector('#df-3f0ff03e-0c11-4317-a5e8-c7b165d8e2fb');\n",
              "          const dataTable =\n",
              "            await google.colab.kernel.invokeFunction('convertToInteractive',\n",
              "                                                     [key], {});\n",
              "          if (!dataTable) return;\n",
              "\n",
              "          const docLinkHtml = 'Like what you see? Visit the ' +\n",
              "            '<a target=\"_blank\" href=https://colab.research.google.com/notebooks/data_table.ipynb>data table notebook</a>'\n",
              "            + ' to learn more about interactive tables.';\n",
              "          element.innerHTML = '';\n",
              "          dataTable['output_type'] = 'display_data';\n",
              "          await google.colab.output.renderOutput(dataTable, element);\n",
              "          const docLink = document.createElement('div');\n",
              "          docLink.innerHTML = docLinkHtml;\n",
              "          element.appendChild(docLink);\n",
              "        }\n",
              "      </script>\n",
              "    </div>\n",
              "  </div>\n",
              "  "
            ]
          },
          "metadata": {},
          "execution_count": 6
        }
      ]
    },
    {
      "cell_type": "code",
      "source": [
        "data.info()"
      ],
      "metadata": {
        "colab": {
          "base_uri": "https://localhost:8080/"
        },
        "id": "oKAN7rpVzhvK",
        "outputId": "43aaf194-de6e-44ca-b0ce-6aba0479d6b3"
      },
      "execution_count": 9,
      "outputs": [
        {
          "output_type": "stream",
          "name": "stdout",
          "text": [
            "<class 'pandas.core.frame.DataFrame'>\n",
            "RangeIndex: 6118 entries, 0 to 6117\n",
            "Data columns (total 5 columns):\n",
            " #   Column             Non-Null Count  Dtype  \n",
            "---  ------             --------------  -----  \n",
            " 0   review_id          6118 non-null   object \n",
            " 1   text               6034 non-null   object \n",
            " 2   confidence_score   3285 non-null   float64\n",
            " 3   review_score       6118 non-null   float64\n",
            " 4   acceptance_status  5733 non-null   object \n",
            "dtypes: float64(2), object(3)\n",
            "memory usage: 239.1+ KB\n"
          ]
        }
      ]
    },
    {
      "cell_type": "code",
      "source": [
        "data_1 = data.dropna(subset = ['confidence_score'])"
      ],
      "metadata": {
        "id": "pmXR0Zci0wJM"
      },
      "execution_count": 12,
      "outputs": []
    },
    {
      "cell_type": "code",
      "source": [
        "data_1.head(10)"
      ],
      "metadata": {
        "colab": {
          "base_uri": "https://localhost:8080/",
          "height": 363
        },
        "id": "ECkFQN-5103J",
        "outputId": "b431a936-bb97-4b0e-c27b-2704f565b354"
      },
      "execution_count": 13,
      "outputs": [
        {
          "output_type": "execute_result",
          "data": {
            "text/plain": [
              "           review_id                                               text  \\\n",
              "1   iclr_review_0001  Extrapolation and learning equations. In class...   \n",
              "2   iclr_review_0002  Relational Multi-Instance Learning for Concept...   \n",
              "3   iclr_review_0003  Analysis of Memory Organization for Dynamic Ne...   \n",
              "4   iclr_review_0004  Learning Graph Representations by Dendrograms....   \n",
              "5   iclr_review_0005  On the Computational Inefficiency of Large Bat...   \n",
              "6   iclr_review_0006  Improving Invariance and Equivariance Properti...   \n",
              "9   iclr_review_0009  Few-Shot Intent Inference via Meta-Inverse Rei...   \n",
              "11  iclr_review_0011  Optimal Attacks against Multiple Classifiers. ...   \n",
              "12  iclr_review_0012  Algorithmic Framework for Model-based Deep Rei...   \n",
              "13  iclr_review_0013  Long Short-Term Memory as a Dynamically Comput...   \n",
              "\n",
              "    confidence_score  review_score acceptance_status  \n",
              "1                4.0           7.0            Accept  \n",
              "2                4.0           6.0            Reject  \n",
              "3                5.0           3.0            Reject  \n",
              "4                4.0           5.0            Reject  \n",
              "5                3.0           5.0            Reject  \n",
              "6                5.0           4.0            Reject  \n",
              "9                5.0           3.0            Reject  \n",
              "11               4.0           6.0            Reject  \n",
              "12               4.0           7.0            Accept  \n",
              "13               4.0           6.0            Reject  "
            ],
            "text/html": [
              "\n",
              "  <div id=\"df-c6409798-c7a6-49fb-9abf-9f84a446ccab\">\n",
              "    <div class=\"colab-df-container\">\n",
              "      <div>\n",
              "<style scoped>\n",
              "    .dataframe tbody tr th:only-of-type {\n",
              "        vertical-align: middle;\n",
              "    }\n",
              "\n",
              "    .dataframe tbody tr th {\n",
              "        vertical-align: top;\n",
              "    }\n",
              "\n",
              "    .dataframe thead th {\n",
              "        text-align: right;\n",
              "    }\n",
              "</style>\n",
              "<table border=\"1\" class=\"dataframe\">\n",
              "  <thead>\n",
              "    <tr style=\"text-align: right;\">\n",
              "      <th></th>\n",
              "      <th>review_id</th>\n",
              "      <th>text</th>\n",
              "      <th>confidence_score</th>\n",
              "      <th>review_score</th>\n",
              "      <th>acceptance_status</th>\n",
              "    </tr>\n",
              "  </thead>\n",
              "  <tbody>\n",
              "    <tr>\n",
              "      <th>1</th>\n",
              "      <td>iclr_review_0001</td>\n",
              "      <td>Extrapolation and learning equations. In class...</td>\n",
              "      <td>4.0</td>\n",
              "      <td>7.0</td>\n",
              "      <td>Accept</td>\n",
              "    </tr>\n",
              "    <tr>\n",
              "      <th>2</th>\n",
              "      <td>iclr_review_0002</td>\n",
              "      <td>Relational Multi-Instance Learning for Concept...</td>\n",
              "      <td>4.0</td>\n",
              "      <td>6.0</td>\n",
              "      <td>Reject</td>\n",
              "    </tr>\n",
              "    <tr>\n",
              "      <th>3</th>\n",
              "      <td>iclr_review_0003</td>\n",
              "      <td>Analysis of Memory Organization for Dynamic Ne...</td>\n",
              "      <td>5.0</td>\n",
              "      <td>3.0</td>\n",
              "      <td>Reject</td>\n",
              "    </tr>\n",
              "    <tr>\n",
              "      <th>4</th>\n",
              "      <td>iclr_review_0004</td>\n",
              "      <td>Learning Graph Representations by Dendrograms....</td>\n",
              "      <td>4.0</td>\n",
              "      <td>5.0</td>\n",
              "      <td>Reject</td>\n",
              "    </tr>\n",
              "    <tr>\n",
              "      <th>5</th>\n",
              "      <td>iclr_review_0005</td>\n",
              "      <td>On the Computational Inefficiency of Large Bat...</td>\n",
              "      <td>3.0</td>\n",
              "      <td>5.0</td>\n",
              "      <td>Reject</td>\n",
              "    </tr>\n",
              "    <tr>\n",
              "      <th>6</th>\n",
              "      <td>iclr_review_0006</td>\n",
              "      <td>Improving Invariance and Equivariance Properti...</td>\n",
              "      <td>5.0</td>\n",
              "      <td>4.0</td>\n",
              "      <td>Reject</td>\n",
              "    </tr>\n",
              "    <tr>\n",
              "      <th>9</th>\n",
              "      <td>iclr_review_0009</td>\n",
              "      <td>Few-Shot Intent Inference via Meta-Inverse Rei...</td>\n",
              "      <td>5.0</td>\n",
              "      <td>3.0</td>\n",
              "      <td>Reject</td>\n",
              "    </tr>\n",
              "    <tr>\n",
              "      <th>11</th>\n",
              "      <td>iclr_review_0011</td>\n",
              "      <td>Optimal Attacks against Multiple Classifiers. ...</td>\n",
              "      <td>4.0</td>\n",
              "      <td>6.0</td>\n",
              "      <td>Reject</td>\n",
              "    </tr>\n",
              "    <tr>\n",
              "      <th>12</th>\n",
              "      <td>iclr_review_0012</td>\n",
              "      <td>Algorithmic Framework for Model-based Deep Rei...</td>\n",
              "      <td>4.0</td>\n",
              "      <td>7.0</td>\n",
              "      <td>Accept</td>\n",
              "    </tr>\n",
              "    <tr>\n",
              "      <th>13</th>\n",
              "      <td>iclr_review_0013</td>\n",
              "      <td>Long Short-Term Memory as a Dynamically Comput...</td>\n",
              "      <td>4.0</td>\n",
              "      <td>6.0</td>\n",
              "      <td>Reject</td>\n",
              "    </tr>\n",
              "  </tbody>\n",
              "</table>\n",
              "</div>\n",
              "      <button class=\"colab-df-convert\" onclick=\"convertToInteractive('df-c6409798-c7a6-49fb-9abf-9f84a446ccab')\"\n",
              "              title=\"Convert this dataframe to an interactive table.\"\n",
              "              style=\"display:none;\">\n",
              "        \n",
              "  <svg xmlns=\"http://www.w3.org/2000/svg\" height=\"24px\"viewBox=\"0 0 24 24\"\n",
              "       width=\"24px\">\n",
              "    <path d=\"M0 0h24v24H0V0z\" fill=\"none\"/>\n",
              "    <path d=\"M18.56 5.44l.94 2.06.94-2.06 2.06-.94-2.06-.94-.94-2.06-.94 2.06-2.06.94zm-11 1L8.5 8.5l.94-2.06 2.06-.94-2.06-.94L8.5 2.5l-.94 2.06-2.06.94zm10 10l.94 2.06.94-2.06 2.06-.94-2.06-.94-.94-2.06-.94 2.06-2.06.94z\"/><path d=\"M17.41 7.96l-1.37-1.37c-.4-.4-.92-.59-1.43-.59-.52 0-1.04.2-1.43.59L10.3 9.45l-7.72 7.72c-.78.78-.78 2.05 0 2.83L4 21.41c.39.39.9.59 1.41.59.51 0 1.02-.2 1.41-.59l7.78-7.78 2.81-2.81c.8-.78.8-2.07 0-2.86zM5.41 20L4 18.59l7.72-7.72 1.47 1.35L5.41 20z\"/>\n",
              "  </svg>\n",
              "      </button>\n",
              "      \n",
              "  <style>\n",
              "    .colab-df-container {\n",
              "      display:flex;\n",
              "      flex-wrap:wrap;\n",
              "      gap: 12px;\n",
              "    }\n",
              "\n",
              "    .colab-df-convert {\n",
              "      background-color: #E8F0FE;\n",
              "      border: none;\n",
              "      border-radius: 50%;\n",
              "      cursor: pointer;\n",
              "      display: none;\n",
              "      fill: #1967D2;\n",
              "      height: 32px;\n",
              "      padding: 0 0 0 0;\n",
              "      width: 32px;\n",
              "    }\n",
              "\n",
              "    .colab-df-convert:hover {\n",
              "      background-color: #E2EBFA;\n",
              "      box-shadow: 0px 1px 2px rgba(60, 64, 67, 0.3), 0px 1px 3px 1px rgba(60, 64, 67, 0.15);\n",
              "      fill: #174EA6;\n",
              "    }\n",
              "\n",
              "    [theme=dark] .colab-df-convert {\n",
              "      background-color: #3B4455;\n",
              "      fill: #D2E3FC;\n",
              "    }\n",
              "\n",
              "    [theme=dark] .colab-df-convert:hover {\n",
              "      background-color: #434B5C;\n",
              "      box-shadow: 0px 1px 3px 1px rgba(0, 0, 0, 0.15);\n",
              "      filter: drop-shadow(0px 1px 2px rgba(0, 0, 0, 0.3));\n",
              "      fill: #FFFFFF;\n",
              "    }\n",
              "  </style>\n",
              "\n",
              "      <script>\n",
              "        const buttonEl =\n",
              "          document.querySelector('#df-c6409798-c7a6-49fb-9abf-9f84a446ccab button.colab-df-convert');\n",
              "        buttonEl.style.display =\n",
              "          google.colab.kernel.accessAllowed ? 'block' : 'none';\n",
              "\n",
              "        async function convertToInteractive(key) {\n",
              "          const element = document.querySelector('#df-c6409798-c7a6-49fb-9abf-9f84a446ccab');\n",
              "          const dataTable =\n",
              "            await google.colab.kernel.invokeFunction('convertToInteractive',\n",
              "                                                     [key], {});\n",
              "          if (!dataTable) return;\n",
              "\n",
              "          const docLinkHtml = 'Like what you see? Visit the ' +\n",
              "            '<a target=\"_blank\" href=https://colab.research.google.com/notebooks/data_table.ipynb>data table notebook</a>'\n",
              "            + ' to learn more about interactive tables.';\n",
              "          element.innerHTML = '';\n",
              "          dataTable['output_type'] = 'display_data';\n",
              "          await google.colab.output.renderOutput(dataTable, element);\n",
              "          const docLink = document.createElement('div');\n",
              "          docLink.innerHTML = docLinkHtml;\n",
              "          element.appendChild(docLink);\n",
              "        }\n",
              "      </script>\n",
              "    </div>\n",
              "  </div>\n",
              "  "
            ]
          },
          "metadata": {},
          "execution_count": 13
        }
      ]
    },
    {
      "cell_type": "code",
      "source": [
        "data_1.shape"
      ],
      "metadata": {
        "colab": {
          "base_uri": "https://localhost:8080/"
        },
        "id": "vI5R68Ru3XA9",
        "outputId": "1712dd64-1f27-424e-d7ef-53fd0ef565f3"
      },
      "execution_count": 15,
      "outputs": [
        {
          "output_type": "execute_result",
          "data": {
            "text/plain": [
              "(3285, 5)"
            ]
          },
          "metadata": {},
          "execution_count": 15
        }
      ]
    },
    {
      "cell_type": "code",
      "source": [
        "data_1.to_csv('data_1.csv')"
      ],
      "metadata": {
        "id": "cHJ-kCfI14w4"
      },
      "execution_count": 14,
      "outputs": []
    },
    {
      "cell_type": "markdown",
      "source": [
        "# Visualization"
      ],
      "metadata": {
        "id": "fR8t3W0R2dA6"
      }
    },
    {
      "cell_type": "code",
      "source": [
        "X = data_1.confidence_score\n",
        "Y = data_1.review_score\n",
        "plt.scatter(X,Y)"
      ],
      "metadata": {
        "colab": {
          "base_uri": "https://localhost:8080/",
          "height": 283
        },
        "id": "2ruccfiF2EKo",
        "outputId": "ecda6118-0fed-4ee7-e29c-f17fa03c1e82"
      },
      "execution_count": 16,
      "outputs": [
        {
          "output_type": "execute_result",
          "data": {
            "text/plain": [
              "<matplotlib.collections.PathCollection at 0x7f3730dade50>"
            ]
          },
          "metadata": {},
          "execution_count": 16
        },
        {
          "output_type": "display_data",
          "data": {
            "text/plain": [
              "<Figure size 432x288 with 1 Axes>"
            ],
            "image/png": "[encoded data removed]"
          },
          "metadata": {
            "needs_background": "light"
          }
        }
      ]
    },
    {
      "cell_type": "code",
      "source": [
        "review_score = data_1.review_score\n",
        "plt.hist(review_score)\n",
        "plt.grid()"
      ],
      "metadata": {
        "colab": {
          "base_uri": "https://localhost:8080/",
          "height": 264
        },
        "id": "kpU2nOzR4EhS",
        "outputId": "6b8809f0-c734-4e11-f327-59433dd47f6d"
      },
      "execution_count": 24,
      "outputs": [
        {
          "output_type": "display_data",
          "data": {
            "text/plain": [
              "<Figure size 432x288 with 1 Axes>"
            ],
            "image/png": "[encoded data removed]"
          },
          "metadata": {
            "needs_background": "light"
          }
        }
      ]
    },
    {
      "cell_type": "code",
      "source": [
        "confidence_score = data_1.confidence_score\n",
        "plt.hist(confidence_score)\n",
        "plt.grid()"
      ],
      "metadata": {
        "colab": {
          "base_uri": "https://localhost:8080/",
          "height": 264
        },
        "id": "Rq2sIktc5dbg",
        "outputId": "b49a0454-3db5-4e05-83c3-9525794c50a6"
      },
      "execution_count": 25,
      "outputs": [
        {
          "output_type": "display_data",
          "data": {
            "text/plain": [
              "<Figure size 432x288 with 1 Axes>"
            ],
            "image/png": "[encoded data removed]"
          },
          "metadata": {
            "needs_background": "light"
          }
        }
      ]
    },
    {
      "cell_type": "code",
      "source": [
        "sns.set_theme(style=\"whitegrid\")\n",
        "tips = sns.load_dataset(\"tips\")\n",
        "ax = sns.boxplot(x=data_1['review_score'], y = data_1['confidence_score'])"
      ],
      "metadata": {
        "colab": {
          "base_uri": "https://localhost:8080/",
          "height": 284
        },
        "id": "C2WVvOdS6S4Q",
        "outputId": "df12c629-99e7-4a9c-8b71-247cdf1a4ea7"
      },
      "execution_count": 27,
      "outputs": [
        {
          "output_type": "display_data",
          "data": {
            "text/plain": [
              "<Figure size 432x288 with 1 Axes>"
            ],
            "image/png": "[encoded data removed]"
          },
          "metadata": {}
        }
      ]
    },
    {
      "cell_type": "code",
      "source": [
        "sns.set_theme(style=\"whitegrid\")\n",
        "tips = sns.load_dataset(\"tips\")\n",
        "ax = sns.boxplot(x=data_1['review_score'], y = data_1['acceptance_status'])"
      ],
      "metadata": {
        "colab": {
          "base_uri": "https://localhost:8080/",
          "height": 284
        },
        "id": "ISaOE4eP7IrX",
        "outputId": "3be10d51-a0ae-4bc9-b78c-1c1aeee3cbf4"
      },
      "execution_count": 28,
      "outputs": [
        {
          "output_type": "display_data",
          "data": {
            "text/plain": [
              "<Figure size 432x288 with 1 Axes>"
            ],
            "image/png": "[encoded data removed]"
          },
          "metadata": {}
        }
      ]
    },
    {
      "cell_type": "code",
      "source": [
        "sns.set_theme(style=\"whitegrid\")\n",
        "ax = sns.boxplot(x=data_1['confidence_score'], y = data_1['acceptance_status'])"
      ],
      "metadata": {
        "colab": {
          "base_uri": "https://localhost:8080/",
          "height": 284
        },
        "id": "oXa7NqLs7m3H",
        "outputId": "20fe72cd-b3fa-4cb5-bd69-eab682503c25"
      },
      "execution_count": 29,
      "outputs": [
        {
          "output_type": "display_data",
          "data": {
            "text/plain": [
              "<Figure size 432x288 with 1 Axes>"
            ],
            "image/png": "[encoded data removed]"
          },
          "metadata": {}
        }
      ]
    },
    {
      "cell_type": "code",
      "source": [
        "sns.set_theme(style=\"whitegrid\")\n",
        "ax = sns.boxplot(x=data_1['confidence_score'], y = data_1['review_score'])"
      ],
      "metadata": {
        "colab": {
          "base_uri": "https://localhost:8080/",
          "height": 284
        },
        "id": "UYVD03vv8PG_",
        "outputId": "626fa6a4-2ec8-474e-d4ae-7745d24e0ec0"
      },
      "execution_count": 30,
      "outputs": [
        {
          "output_type": "display_data",
          "data": {
            "text/plain": [
              "<Figure size 432x288 with 1 Axes>"
            ],
            "image/png": "[encoded data removed]"
          },
          "metadata": {}
        }
      ]
    },
    {
      "cell_type": "markdown",
      "source": [
        "# Data Preprocessing"
      ],
      "metadata": {
        "id": "RtBmIEhJ8eS2"
      }
    },
    {
      "cell_type": "code",
      "source": [
        "from sklearn.model_selection import train_test_split\n",
        "\n",
        "X_train, X_test, y_train, y_test = train_test_split(X,Y, test_size = 0.2)"
      ],
      "metadata": {
        "id": "JQO5miwX8TIP"
      },
      "execution_count": 33,
      "outputs": []
    },
    {
      "cell_type": "code",
      "source": [
        "data_1.isna().sum()"
      ],
      "metadata": {
        "colab": {
          "base_uri": "https://localhost:8080/"
        },
        "id": "5tWWQM-J86U2",
        "outputId": "a66d95e6-95d9-4d41-bcc8-78b1e6276230"
      },
      "execution_count": 34,
      "outputs": [
        {
          "output_type": "execute_result",
          "data": {
            "text/plain": [
              "review_id             0\n",
              "text                 42\n",
              "confidence_score      0\n",
              "review_score          0\n",
              "acceptance_status     0\n",
              "dtype: int64"
            ]
          },
          "metadata": {},
          "execution_count": 34
        }
      ]
    },
    {
      "cell_type": "code",
      "source": [
        "print (data_1[pd.to_numeric(data_1.review_id, errors='coerce').isnull()])"
      ],
      "metadata": {
        "colab": {
          "base_uri": "https://localhost:8080/"
        },
        "id": "2ggpLch3-gQg",
        "outputId": "ab2e4b9a-5eb8-486b-b361-3c2bb7005c72"
      },
      "execution_count": 39,
      "outputs": [
        {
          "output_type": "stream",
          "name": "stdout",
          "text": [
            "             review_id                                               text  \\\n",
            "1     iclr_review_0001  Extrapolation and learning equations. In class...   \n",
            "2     iclr_review_0002  Relational Multi-Instance Learning for Concept...   \n",
            "3     iclr_review_0003  Analysis of Memory Organization for Dynamic Ne...   \n",
            "4     iclr_review_0004  Learning Graph Representations by Dendrograms....   \n",
            "5     iclr_review_0005  On the Computational Inefficiency of Large Bat...   \n",
            "...                ...                                                ...   \n",
            "6102  iclr_review_6102  Quality Evaluation of GANs Using Cross Local I...   \n",
            "6105  iclr_review_6105  Conditional Inference in Pre-trained Variation...   \n",
            "6107  iclr_review_6107  Generative Models and Model Criticism via Opti...   \n",
            "6115  iclr_review_6115  Deep Neural Networks and the Tree of Life. In ...   \n",
            "6117  iclr_review_6117  Exploring Deep Recurrent Models with Reinforce...   \n",
            "\n",
            "      confidence_score  review_score acceptance_status  \n",
            "1                  4.0           7.0            Accept  \n",
            "2                  4.0           6.0            Reject  \n",
            "3                  5.0           3.0            Reject  \n",
            "4                  4.0           5.0            Reject  \n",
            "5                  3.0           5.0            Reject  \n",
            "...                ...           ...               ...  \n",
            "6102               4.0           6.0            Reject  \n",
            "6105               4.0           4.0            Reject  \n",
            "6107               3.0           8.0            Accept  \n",
            "6115               4.0           4.0            Reject  \n",
            "6117               3.0          -1.0            Accept  \n",
            "\n",
            "[3285 rows x 5 columns]\n"
          ]
        }
      ]
    },
    {
      "cell_type": "code",
      "source": [
        "data_2 = pd.DataFrame(X, columns=data_1.columns)\n",
        "\n",
        "print(data_2)\n"
      ],
      "metadata": {
        "colab": {
          "base_uri": "https://localhost:8080/"
        },
        "id": "C30zIK7H9yvO",
        "outputId": "e107e322-2c34-4dbd-d2a4-cdd68af39b22"
      },
      "execution_count": 41,
      "outputs": [
        {
          "output_type": "stream",
          "name": "stdout",
          "text": [
            "     review_id text confidence_score review_score acceptance_status\n",
            "1          NaN  NaN              NaN          NaN            Accept\n",
            "2          NaN  NaN              NaN          NaN            Reject\n",
            "3          NaN  NaN              NaN          NaN            Reject\n",
            "4          NaN  NaN              NaN          NaN            Reject\n",
            "5          NaN  NaN              NaN          NaN            Reject\n",
            "...        ...  ...              ...          ...               ...\n",
            "6102       NaN  NaN              NaN          NaN            Reject\n",
            "6105       NaN  NaN              NaN          NaN            Reject\n",
            "6107       NaN  NaN              NaN          NaN            Accept\n",
            "6115       NaN  NaN              NaN          NaN            Reject\n",
            "6117       NaN  NaN              NaN          NaN            Accept\n",
            "\n",
            "[3285 rows x 5 columns]\n"
          ]
        }
      ]
    },
    {
      "cell_type": "code",
      "source": [
        "data_2.dropna()"
      ],
      "metadata": {
        "colab": {
          "base_uri": "https://localhost:8080/",
          "height": 50
        },
        "id": "4S4iHcy5AFVr",
        "outputId": "70c62185-27e6-4a07-d65c-f13409aaa9bd"
      },
      "execution_count": 43,
      "outputs": [
        {
          "output_type": "execute_result",
          "data": {
            "text/plain": [
              "Empty DataFrame\n",
              "Columns: [review_id, text, confidence_score, review_score, acceptance_status]\n",
              "Index: []"
            ],
            "text/html": [
              "\n",
              "  <div id=\"df-8bc8de10-9f7e-4806-952f-0fbf255a0cdb\">\n",
              "    <div class=\"colab-df-container\">\n",
              "      <div>\n",
              "<style scoped>\n",
              "    .dataframe tbody tr th:only-of-type {\n",
              "        vertical-align: middle;\n",
              "    }\n",
              "\n",
              "    .dataframe tbody tr th {\n",
              "        vertical-align: top;\n",
              "    }\n",
              "\n",
              "    .dataframe thead th {\n",
              "        text-align: right;\n",
              "    }\n",
              "</style>\n",
              "<table border=\"1\" class=\"dataframe\">\n",
              "  <thead>\n",
              "    <tr style=\"text-align: right;\">\n",
              "      <th></th>\n",
              "      <th>review_id</th>\n",
              "      <th>text</th>\n",
              "      <th>confidence_score</th>\n",
              "      <th>review_score</th>\n",
              "      <th>acceptance_status</th>\n",
              "    </tr>\n",
              "  </thead>\n",
              "  <tbody>\n",
              "  </tbody>\n",
              "</table>\n",
              "</div>\n",
              "      <button class=\"colab-df-convert\" onclick=\"convertToInteractive('df-8bc8de10-9f7e-4806-952f-0fbf255a0cdb')\"\n",
              "              title=\"Convert this dataframe to an interactive table.\"\n",
              "              style=\"display:none;\">\n",
              "        \n",
              "  <svg xmlns=\"http://www.w3.org/2000/svg\" height=\"24px\"viewBox=\"0 0 24 24\"\n",
              "       width=\"24px\">\n",
              "    <path d=\"M0 0h24v24H0V0z\" fill=\"none\"/>\n",
              "    <path d=\"M18.56 5.44l.94 2.06.94-2.06 2.06-.94-2.06-.94-.94-2.06-.94 2.06-2.06.94zm-11 1L8.5 8.5l.94-2.06 2.06-.94-2.06-.94L8.5 2.5l-.94 2.06-2.06.94zm10 10l.94 2.06.94-2.06 2.06-.94-2.06-.94-.94-2.06-.94 2.06-2.06.94z\"/><path d=\"M17.41 7.96l-1.37-1.37c-.4-.4-.92-.59-1.43-.59-.52 0-1.04.2-1.43.59L10.3 9.45l-7.72 7.72c-.78.78-.78 2.05 0 2.83L4 21.41c.39.39.9.59 1.41.59.51 0 1.02-.2 1.41-.59l7.78-7.78 2.81-2.81c.8-.78.8-2.07 0-2.86zM5.41 20L4 18.59l7.72-7.72 1.47 1.35L5.41 20z\"/>\n",
              "  </svg>\n",
              "      </button>\n",
              "      \n",
              "  <style>\n",
              "    .colab-df-container {\n",
              "      display:flex;\n",
              "      flex-wrap:wrap;\n",
              "      gap: 12px;\n",
              "    }\n",
              "\n",
              "    .colab-df-convert {\n",
              "      background-color: #E8F0FE;\n",
              "      border: none;\n",
              "      border-radius: 50%;\n",
              "      cursor: pointer;\n",
              "      display: none;\n",
              "      fill: #1967D2;\n",
              "      height: 32px;\n",
              "      padding: 0 0 0 0;\n",
              "      width: 32px;\n",
              "    }\n",
              "\n",
              "    .colab-df-convert:hover {\n",
              "      background-color: #E2EBFA;\n",
              "      box-shadow: 0px 1px 2px rgba(60, 64, 67, 0.3), 0px 1px 3px 1px rgba(60, 64, 67, 0.15);\n",
              "      fill: #174EA6;\n",
              "    }\n",
              "\n",
              "    [theme=dark] .colab-df-convert {\n",
              "      background-color: #3B4455;\n",
              "      fill: #D2E3FC;\n",
              "    }\n",
              "\n",
              "    [theme=dark] .colab-df-convert:hover {\n",
              "      background-color: #434B5C;\n",
              "      box-shadow: 0px 1px 3px 1px rgba(0, 0, 0, 0.15);\n",
              "      filter: drop-shadow(0px 1px 2px rgba(0, 0, 0, 0.3));\n",
              "      fill: #FFFFFF;\n",
              "    }\n",
              "  </style>\n",
              "\n",
              "      <script>\n",
              "        const buttonEl =\n",
              "          document.querySelector('#df-8bc8de10-9f7e-4806-952f-0fbf255a0cdb button.colab-df-convert');\n",
              "        buttonEl.style.display =\n",
              "          google.colab.kernel.accessAllowed ? 'block' : 'none';\n",
              "\n",
              "        async function convertToInteractive(key) {\n",
              "          const element = document.querySelector('#df-8bc8de10-9f7e-4806-952f-0fbf255a0cdb');\n",
              "          const dataTable =\n",
              "            await google.colab.kernel.invokeFunction('convertToInteractive',\n",
              "                                                     [key], {});\n",
              "          if (!dataTable) return;\n",
              "\n",
              "          const docLinkHtml = 'Like what you see? Visit the ' +\n",
              "            '<a target=\"_blank\" href=https://colab.research.google.com/notebooks/data_table.ipynb>data table notebook</a>'\n",
              "            + ' to learn more about interactive tables.';\n",
              "          element.innerHTML = '';\n",
              "          dataTable['output_type'] = 'display_data';\n",
              "          await google.colab.output.renderOutput(dataTable, element);\n",
              "          const docLink = document.createElement('div');\n",
              "          docLink.innerHTML = docLinkHtml;\n",
              "          element.appendChild(docLink);\n",
              "        }\n",
              "      </script>\n",
              "    </div>\n",
              "  </div>\n",
              "  "
            ]
          },
          "metadata": {},
          "execution_count": 43
        }
      ]
    },
    {
      "cell_type": "code",
      "source": [
        "data_1['acceptance_status'] = data_1['acceptance_status'].astype('category')\n",
        "data_1.dtypes"
      ],
      "metadata": {
        "colab": {
          "base_uri": "https://localhost:8080/"
        },
        "id": "hKKzoRZJAKZO",
        "outputId": "f7088352-dff5-43ab-b677-2d951b87441d"
      },
      "execution_count": 44,
      "outputs": [
        {
          "output_type": "stream",
          "name": "stderr",
          "text": [
            "/usr/local/lib/python3.7/dist-packages/ipykernel_launcher.py:1: SettingWithCopyWarning: \n",
            "A value is trying to be set on a copy of a slice from a DataFrame.\n",
            "Try using .loc[row_indexer,col_indexer] = value instead\n",
            "\n",
            "See the caveats in the documentation: https://pandas.pydata.org/pandas-docs/stable/user_guide/indexing.html#returning-a-view-versus-a-copy\n",
            "  \"\"\"Entry point for launching an IPython kernel.\n"
          ]
        },
        {
          "output_type": "execute_result",
          "data": {
            "text/plain": [
              "review_id              object\n",
              "text                   object\n",
              "confidence_score      float64\n",
              "review_score          float64\n",
              "acceptance_status    category\n",
              "dtype: object"
            ]
          },
          "metadata": {},
          "execution_count": 44
        }
      ]
    },
    {
      "cell_type": "code",
      "source": [
        "pd.get_dummies(data_1, columns = [\"acceptance_status\"]).head(10)"
      ],
      "metadata": {
        "colab": {
          "base_uri": "https://localhost:8080/",
          "height": 563
        },
        "id": "MbQkWN3iCEQv",
        "outputId": "3322618e-d5b5-4dc4-98a7-77c35121df8c"
      },
      "execution_count": 47,
      "outputs": [
        {
          "output_type": "execute_result",
          "data": {
            "text/plain": [
              "           review_id                                               text  \\\n",
              "1   iclr_review_0001  Extrapolation and learning equations. In class...   \n",
              "2   iclr_review_0002  Relational Multi-Instance Learning for Concept...   \n",
              "3   iclr_review_0003  Analysis of Memory Organization for Dynamic Ne...   \n",
              "4   iclr_review_0004  Learning Graph Representations by Dendrograms....   \n",
              "5   iclr_review_0005  On the Computational Inefficiency of Large Bat...   \n",
              "6   iclr_review_0006  Improving Invariance and Equivariance Properti...   \n",
              "9   iclr_review_0009  Few-Shot Intent Inference via Meta-Inverse Rei...   \n",
              "11  iclr_review_0011  Optimal Attacks against Multiple Classifiers. ...   \n",
              "12  iclr_review_0012  Algorithmic Framework for Model-based Deep Rei...   \n",
              "13  iclr_review_0013  Long Short-Term Memory as a Dynamically Comput...   \n",
              "\n",
              "    confidence_score  review_score  acceptance_status_Accept  \\\n",
              "1                4.0           7.0                         1   \n",
              "2                4.0           6.0                         0   \n",
              "3                5.0           3.0                         0   \n",
              "4                4.0           5.0                         0   \n",
              "5                3.0           5.0                         0   \n",
              "6                5.0           4.0                         0   \n",
              "9                5.0           3.0                         0   \n",
              "11               4.0           6.0                         0   \n",
              "12               4.0           7.0                         1   \n",
              "13               4.0           6.0                         0   \n",
              "\n",
              "    acceptance_status_Reject  \n",
              "1                          0  \n",
              "2                          1  \n",
              "3                          1  \n",
              "4                          1  \n",
              "5                          1  \n",
              "6                          1  \n",
              "9                          1  \n",
              "11                         1  \n",
              "12                         0  \n",
              "13                         1  "
            ],
            "text/html": [
              "\n",
              "  <div id=\"df-6d7e6306-efdd-4cd9-ba81-689c3f84700b\">\n",
              "    <div class=\"colab-df-container\">\n",
              "      <div>\n",
              "<style scoped>\n",
              "    .dataframe tbody tr th:only-of-type {\n",
              "        vertical-align: middle;\n",
              "    }\n",
              "\n",
              "    .dataframe tbody tr th {\n",
              "        vertical-align: top;\n",
              "    }\n",
              "\n",
              "    .dataframe thead th {\n",
              "        text-align: right;\n",
              "    }\n",
              "</style>\n",
              "<table border=\"1\" class=\"dataframe\">\n",
              "  <thead>\n",
              "    <tr style=\"text-align: right;\">\n",
              "      <th></th>\n",
              "      <th>review_id</th>\n",
              "      <th>text</th>\n",
              "      <th>confidence_score</th>\n",
              "      <th>review_score</th>\n",
              "      <th>acceptance_status_Accept</th>\n",
              "      <th>acceptance_status_Reject</th>\n",
              "    </tr>\n",
              "  </thead>\n",
              "  <tbody>\n",
              "    <tr>\n",
              "      <th>1</th>\n",
              "      <td>iclr_review_0001</td>\n",
              "      <td>Extrapolation and learning equations. In class...</td>\n",
              "      <td>4.0</td>\n",
              "      <td>7.0</td>\n",
              "      <td>1</td>\n",
              "      <td>0</td>\n",
              "    </tr>\n",
              "    <tr>\n",
              "      <th>2</th>\n",
              "      <td>iclr_review_0002</td>\n",
              "      <td>Relational Multi-Instance Learning for Concept...</td>\n",
              "      <td>4.0</td>\n",
              "      <td>6.0</td>\n",
              "      <td>0</td>\n",
              "      <td>1</td>\n",
              "    </tr>\n",
              "    <tr>\n",
              "      <th>3</th>\n",
              "      <td>iclr_review_0003</td>\n",
              "      <td>Analysis of Memory Organization for Dynamic Ne...</td>\n",
              "      <td>5.0</td>\n",
              "      <td>3.0</td>\n",
              "      <td>0</td>\n",
              "      <td>1</td>\n",
              "    </tr>\n",
              "    <tr>\n",
              "      <th>4</th>\n",
              "      <td>iclr_review_0004</td>\n",
              "      <td>Learning Graph Representations by Dendrograms....</td>\n",
              "      <td>4.0</td>\n",
              "      <td>5.0</td>\n",
              "      <td>0</td>\n",
              "      <td>1</td>\n",
              "    </tr>\n",
              "    <tr>\n",
              "      <th>5</th>\n",
              "      <td>iclr_review_0005</td>\n",
              "      <td>On the Computational Inefficiency of Large Bat...</td>\n",
              "      <td>3.0</td>\n",
              "      <td>5.0</td>\n",
              "      <td>0</td>\n",
              "      <td>1</td>\n",
              "    </tr>\n",
              "    <tr>\n",
              "      <th>6</th>\n",
              "      <td>iclr_review_0006</td>\n",
              "      <td>Improving Invariance and Equivariance Properti...</td>\n",
              "      <td>5.0</td>\n",
              "      <td>4.0</td>\n",
              "      <td>0</td>\n",
              "      <td>1</td>\n",
              "    </tr>\n",
              "    <tr>\n",
              "      <th>9</th>\n",
              "      <td>iclr_review_0009</td>\n",
              "      <td>Few-Shot Intent Inference via Meta-Inverse Rei...</td>\n",
              "      <td>5.0</td>\n",
              "      <td>3.0</td>\n",
              "      <td>0</td>\n",
              "      <td>1</td>\n",
              "    </tr>\n",
              "    <tr>\n",
              "      <th>11</th>\n",
              "      <td>iclr_review_0011</td>\n",
              "      <td>Optimal Attacks against Multiple Classifiers. ...</td>\n",
              "      <td>4.0</td>\n",
              "      <td>6.0</td>\n",
              "      <td>0</td>\n",
              "      <td>1</td>\n",
              "    </tr>\n",
              "    <tr>\n",
              "      <th>12</th>\n",
              "      <td>iclr_review_0012</td>\n",
              "      <td>Algorithmic Framework for Model-based Deep Rei...</td>\n",
              "      <td>4.0</td>\n",
              "      <td>7.0</td>\n",
              "      <td>1</td>\n",
              "      <td>0</td>\n",
              "    </tr>\n",
              "    <tr>\n",
              "      <th>13</th>\n",
              "      <td>iclr_review_0013</td>\n",
              "      <td>Long Short-Term Memory as a Dynamically Comput...</td>\n",
              "      <td>4.0</td>\n",
              "      <td>6.0</td>\n",
              "      <td>0</td>\n",
              "      <td>1</td>\n",
              "    </tr>\n",
              "  </tbody>\n",
              "</table>\n",
              "</div>\n",
              "      <button class=\"colab-df-convert\" onclick=\"convertToInteractive('df-6d7e6306-efdd-4cd9-ba81-689c3f84700b')\"\n",
              "              title=\"Convert this dataframe to an interactive table.\"\n",
              "              style=\"display:none;\">\n",
              "        \n",
              "  <svg xmlns=\"http://www.w3.org/2000/svg\" height=\"24px\"viewBox=\"0 0 24 24\"\n",
              "       width=\"24px\">\n",
              "    <path d=\"M0 0h24v24H0V0z\" fill=\"none\"/>\n",
              "    <path d=\"M18.56 5.44l.94 2.06.94-2.06 2.06-.94-2.06-.94-.94-2.06-.94 2.06-2.06.94zm-11 1L8.5 8.5l.94-2.06 2.06-.94-2.06-.94L8.5 2.5l-.94 2.06-2.06.94zm10 10l.94 2.06.94-2.06 2.06-.94-2.06-.94-.94-2.06-.94 2.06-2.06.94z\"/><path d=\"M17.41 7.96l-1.37-1.37c-.4-.4-.92-.59-1.43-.59-.52 0-1.04.2-1.43.59L10.3 9.45l-7.72 7.72c-.78.78-.78 2.05 0 2.83L4 21.41c.39.39.9.59 1.41.59.51 0 1.02-.2 1.41-.59l7.78-7.78 2.81-2.81c.8-.78.8-2.07 0-2.86zM5.41 20L4 18.59l7.72-7.72 1.47 1.35L5.41 20z\"/>\n",
              "  </svg>\n",
              "      </button>\n",
              "      \n",
              "  <style>\n",
              "    .colab-df-container {\n",
              "      display:flex;\n",
              "      flex-wrap:wrap;\n",
              "      gap: 12px;\n",
              "    }\n",
              "\n",
              "    .colab-df-convert {\n",
              "      background-color: #E8F0FE;\n",
              "      border: none;\n",
              "      border-radius: 50%;\n",
              "      cursor: pointer;\n",
              "      display: none;\n",
              "      fill: #1967D2;\n",
              "      height: 32px;\n",
              "      padding: 0 0 0 0;\n",
              "      width: 32px;\n",
              "    }\n",
              "\n",
              "    .colab-df-convert:hover {\n",
              "      background-color: #E2EBFA;\n",
              "      box-shadow: 0px 1px 2px rgba(60, 64, 67, 0.3), 0px 1px 3px 1px rgba(60, 64, 67, 0.15);\n",
              "      fill: #174EA6;\n",
              "    }\n",
              "\n",
              "    [theme=dark] .colab-df-convert {\n",
              "      background-color: #3B4455;\n",
              "      fill: #D2E3FC;\n",
              "    }\n",
              "\n",
              "    [theme=dark] .colab-df-convert:hover {\n",
              "      background-color: #434B5C;\n",
              "      box-shadow: 0px 1px 3px 1px rgba(0, 0, 0, 0.15);\n",
              "      filter: drop-shadow(0px 1px 2px rgba(0, 0, 0, 0.3));\n",
              "      fill: #FFFFFF;\n",
              "    }\n",
              "  </style>\n",
              "\n",
              "      <script>\n",
              "        const buttonEl =\n",
              "          document.querySelector('#df-6d7e6306-efdd-4cd9-ba81-689c3f84700b button.colab-df-convert');\n",
              "        buttonEl.style.display =\n",
              "          google.colab.kernel.accessAllowed ? 'block' : 'none';\n",
              "\n",
              "        async function convertToInteractive(key) {\n",
              "          const element = document.querySelector('#df-6d7e6306-efdd-4cd9-ba81-689c3f84700b');\n",
              "          const dataTable =\n",
              "            await google.colab.kernel.invokeFunction('convertToInteractive',\n",
              "                                                     [key], {});\n",
              "          if (!dataTable) return;\n",
              "\n",
              "          const docLinkHtml = 'Like what you see? Visit the ' +\n",
              "            '<a target=\"_blank\" href=https://colab.research.google.com/notebooks/data_table.ipynb>data table notebook</a>'\n",
              "            + ' to learn more about interactive tables.';\n",
              "          element.innerHTML = '';\n",
              "          dataTable['output_type'] = 'display_data';\n",
              "          await google.colab.output.renderOutput(dataTable, element);\n",
              "          const docLink = document.createElement('div');\n",
              "          docLink.innerHTML = docLinkHtml;\n",
              "          element.appendChild(docLink);\n",
              "        }\n",
              "      </script>\n",
              "    </div>\n",
              "  </div>\n",
              "  "
            ]
          },
          "metadata": {},
          "execution_count": 47
        }
      ]
    },
    {
      "cell_type": "code",
      "source": [
        "text =  data_1.loc[:,[\"review_score\",\"text\"]]"
      ],
      "metadata": {
        "id": "WRUuT2oOC6RH"
      },
      "execution_count": 80,
      "outputs": []
    },
    {
      "cell_type": "code",
      "source": [
        "text"
      ],
      "metadata": {
        "colab": {
          "base_uri": "https://localhost:8080/",
          "height": 423
        },
        "id": "xTxh11RgHZw0",
        "outputId": "9ad54a90-34bf-45d7-c84b-e1ec5d35b59e"
      },
      "execution_count": 81,
      "outputs": [
        {
          "output_type": "execute_result",
          "data": {
            "text/plain": [
              "      review_score                                               text\n",
              "1              7.0  Extrapolation and learning equations. In class...\n",
              "2              6.0  Relational Multi-Instance Learning for Concept...\n",
              "3              3.0  Analysis of Memory Organization for Dynamic Ne...\n",
              "4              5.0  Learning Graph Representations by Dendrograms....\n",
              "5              5.0  On the Computational Inefficiency of Large Bat...\n",
              "...            ...                                                ...\n",
              "6102           6.0  Quality Evaluation of GANs Using Cross Local I...\n",
              "6105           4.0  Conditional Inference in Pre-trained Variation...\n",
              "6107           8.0  Generative Models and Model Criticism via Opti...\n",
              "6115           4.0  Deep Neural Networks and the Tree of Life. In ...\n",
              "6117          -1.0  Exploring Deep Recurrent Models with Reinforce...\n",
              "\n",
              "[3285 rows x 2 columns]"
            ],
            "text/html": [
              "\n",
              "  <div id=\"df-26db2f7b-576f-48a4-9e6c-5da876ed26e8\">\n",
              "    <div class=\"colab-df-container\">\n",
              "      <div>\n",
              "<style scoped>\n",
              "    .dataframe tbody tr th:only-of-type {\n",
              "        vertical-align: middle;\n",
              "    }\n",
              "\n",
              "    .dataframe tbody tr th {\n",
              "        vertical-align: top;\n",
              "    }\n",
              "\n",
              "    .dataframe thead th {\n",
              "        text-align: right;\n",
              "    }\n",
              "</style>\n",
              "<table border=\"1\" class=\"dataframe\">\n",
              "  <thead>\n",
              "    <tr style=\"text-align: right;\">\n",
              "      <th></th>\n",
              "      <th>review_score</th>\n",
              "      <th>text</th>\n",
              "    </tr>\n",
              "  </thead>\n",
              "  <tbody>\n",
              "    <tr>\n",
              "      <th>1</th>\n",
              "      <td>7.0</td>\n",
              "      <td>Extrapolation and learning equations. In class...</td>\n",
              "    </tr>\n",
              "    <tr>\n",
              "      <th>2</th>\n",
              "      <td>6.0</td>\n",
              "      <td>Relational Multi-Instance Learning for Concept...</td>\n",
              "    </tr>\n",
              "    <tr>\n",
              "      <th>3</th>\n",
              "      <td>3.0</td>\n",
              "      <td>Analysis of Memory Organization for Dynamic Ne...</td>\n",
              "    </tr>\n",
              "    <tr>\n",
              "      <th>4</th>\n",
              "      <td>5.0</td>\n",
              "      <td>Learning Graph Representations by Dendrograms....</td>\n",
              "    </tr>\n",
              "    <tr>\n",
              "      <th>5</th>\n",
              "      <td>5.0</td>\n",
              "      <td>On the Computational Inefficiency of Large Bat...</td>\n",
              "    </tr>\n",
              "    <tr>\n",
              "      <th>...</th>\n",
              "      <td>...</td>\n",
              "      <td>...</td>\n",
              "    </tr>\n",
              "    <tr>\n",
              "      <th>6102</th>\n",
              "      <td>6.0</td>\n",
              "      <td>Quality Evaluation of GANs Using Cross Local I...</td>\n",
              "    </tr>\n",
              "    <tr>\n",
              "      <th>6105</th>\n",
              "      <td>4.0</td>\n",
              "      <td>Conditional Inference in Pre-trained Variation...</td>\n",
              "    </tr>\n",
              "    <tr>\n",
              "      <th>6107</th>\n",
              "      <td>8.0</td>\n",
              "      <td>Generative Models and Model Criticism via Opti...</td>\n",
              "    </tr>\n",
              "    <tr>\n",
              "      <th>6115</th>\n",
              "      <td>4.0</td>\n",
              "      <td>Deep Neural Networks and the Tree of Life. In ...</td>\n",
              "    </tr>\n",
              "    <tr>\n",
              "      <th>6117</th>\n",
              "      <td>-1.0</td>\n",
              "      <td>Exploring Deep Recurrent Models with Reinforce...</td>\n",
              "    </tr>\n",
              "  </tbody>\n",
              "</table>\n",
              "<p>3285 rows × 2 columns</p>\n",
              "</div>\n",
              "      <button class=\"colab-df-convert\" onclick=\"convertToInteractive('df-26db2f7b-576f-48a4-9e6c-5da876ed26e8')\"\n",
              "              title=\"Convert this dataframe to an interactive table.\"\n",
              "              style=\"display:none;\">\n",
              "        \n",
              "  <svg xmlns=\"http://www.w3.org/2000/svg\" height=\"24px\"viewBox=\"0 0 24 24\"\n",
              "       width=\"24px\">\n",
              "    <path d=\"M0 0h24v24H0V0z\" fill=\"none\"/>\n",
              "    <path d=\"M18.56 5.44l.94 2.06.94-2.06 2.06-.94-2.06-.94-.94-2.06-.94 2.06-2.06.94zm-11 1L8.5 8.5l.94-2.06 2.06-.94-2.06-.94L8.5 2.5l-.94 2.06-2.06.94zm10 10l.94 2.06.94-2.06 2.06-.94-2.06-.94-.94-2.06-.94 2.06-2.06.94z\"/><path d=\"M17.41 7.96l-1.37-1.37c-.4-.4-.92-.59-1.43-.59-.52 0-1.04.2-1.43.59L10.3 9.45l-7.72 7.72c-.78.78-.78 2.05 0 2.83L4 21.41c.39.39.9.59 1.41.59.51 0 1.02-.2 1.41-.59l7.78-7.78 2.81-2.81c.8-.78.8-2.07 0-2.86zM5.41 20L4 18.59l7.72-7.72 1.47 1.35L5.41 20z\"/>\n",
              "  </svg>\n",
              "      </button>\n",
              "      \n",
              "  <style>\n",
              "    .colab-df-container {\n",
              "      display:flex;\n",
              "      flex-wrap:wrap;\n",
              "      gap: 12px;\n",
              "    }\n",
              "\n",
              "    .colab-df-convert {\n",
              "      background-color: #E8F0FE;\n",
              "      border: none;\n",
              "      border-radius: 50%;\n",
              "      cursor: pointer;\n",
              "      display: none;\n",
              "      fill: #1967D2;\n",
              "      height: 32px;\n",
              "      padding: 0 0 0 0;\n",
              "      width: 32px;\n",
              "    }\n",
              "\n",
              "    .colab-df-convert:hover {\n",
              "      background-color: #E2EBFA;\n",
              "      box-shadow: 0px 1px 2px rgba(60, 64, 67, 0.3), 0px 1px 3px 1px rgba(60, 64, 67, 0.15);\n",
              "      fill: #174EA6;\n",
              "    }\n",
              "\n",
              "    [theme=dark] .colab-df-convert {\n",
              "      background-color: #3B4455;\n",
              "      fill: #D2E3FC;\n",
              "    }\n",
              "\n",
              "    [theme=dark] .colab-df-convert:hover {\n",
              "      background-color: #434B5C;\n",
              "      box-shadow: 0px 1px 3px 1px rgba(0, 0, 0, 0.15);\n",
              "      filter: drop-shadow(0px 1px 2px rgba(0, 0, 0, 0.3));\n",
              "      fill: #FFFFFF;\n",
              "    }\n",
              "  </style>\n",
              "\n",
              "      <script>\n",
              "        const buttonEl =\n",
              "          document.querySelector('#df-26db2f7b-576f-48a4-9e6c-5da876ed26e8 button.colab-df-convert');\n",
              "        buttonEl.style.display =\n",
              "          google.colab.kernel.accessAllowed ? 'block' : 'none';\n",
              "\n",
              "        async function convertToInteractive(key) {\n",
              "          const element = document.querySelector('#df-26db2f7b-576f-48a4-9e6c-5da876ed26e8');\n",
              "          const dataTable =\n",
              "            await google.colab.kernel.invokeFunction('convertToInteractive',\n",
              "                                                     [key], {});\n",
              "          if (!dataTable) return;\n",
              "\n",
              "          const docLinkHtml = 'Like what you see? Visit the ' +\n",
              "            '<a target=\"_blank\" href=https://colab.research.google.com/notebooks/data_table.ipynb>data table notebook</a>'\n",
              "            + ' to learn more about interactive tables.';\n",
              "          element.innerHTML = '';\n",
              "          dataTable['output_type'] = 'display_data';\n",
              "          await google.colab.output.renderOutput(dataTable, element);\n",
              "          const docLink = document.createElement('div');\n",
              "          docLink.innerHTML = docLinkHtml;\n",
              "          element.appendChild(docLink);\n",
              "        }\n",
              "      </script>\n",
              "    </div>\n",
              "  </div>\n",
              "  "
            ]
          },
          "metadata": {},
          "execution_count": 81
        }
      ]
    },
    {
      "cell_type": "code",
      "source": [
        "text.to_csv('text_1.csv')"
      ],
      "metadata": {
        "id": "OYKkFTQ4HbBD"
      },
      "execution_count": 54,
      "outputs": []
    },
    {
      "cell_type": "markdown",
      "source": [
        "# Text Classification"
      ],
      "metadata": {
        "id": "FNYy0X7ZIsJ4"
      }
    },
    {
      "cell_type": "code",
      "source": [
        "import numpy as np\n",
        "import re\n",
        "import nltk\n",
        "from sklearn.datasets import load_files\n",
        "nltk.download('stopwords')\n",
        "import pickle\n",
        "from nltk.corpus import stopwords\n",
        "import re\n",
        "import os"
      ],
      "metadata": {
        "colab": {
          "base_uri": "https://localhost:8080/"
        },
        "id": "FDlo8fjyHtYm",
        "outputId": "564f9af3-0fba-4bcd-e210-30e248ab792b"
      },
      "execution_count": 56,
      "outputs": [
        {
          "output_type": "stream",
          "name": "stdout",
          "text": [
            "[nltk_data] Downloading package stopwords to /root/nltk_data...\n",
            "[nltk_data]   Package stopwords is already up-to-date!\n"
          ]
        }
      ]
    },
    {
      "cell_type": "code",
      "source": [
        "def dict_merge_sum(d1, d2):\n",
        "    \"\"\" Two dicionaries d1 and d2 with numerical values and\n",
        "    possibly disjoint keys are merged and the values are added if\n",
        "    the exist in both values, otherwise the missing value is taken to\n",
        "    be 0\"\"\"\n",
        "    \n",
        "    return { k: d1.get(k, 0) + d2.get(k, 0) for k in set(d1) | set(d2) }\n",
        "\n",
        "d1 = dict(a=4, b=5, d=8)\n",
        "d2 = dict(a=1, d=10, e=9)\n",
        "\n",
        "dict_merge_sum(d1, d2)"
      ],
      "metadata": {
        "colab": {
          "base_uri": "https://localhost:8080/"
        },
        "id": "ZwLMTf5iKGWV",
        "outputId": "c0c11972-bc2f-4ef8-8281-4faa60420bf2"
      },
      "execution_count": 57,
      "outputs": [
        {
          "output_type": "execute_result",
          "data": {
            "text/plain": [
              "{'a': 5, 'b': 5, 'd': 18, 'e': 9}"
            ]
          },
          "metadata": {},
          "execution_count": 57
        }
      ]
    },
    {
      "cell_type": "code",
      "source": [
        "class BagOfWords(object):\n",
        "    \"\"\" Implementing a bag of words, words corresponding with their \n",
        "    frequency of usages in a \"document\" for usage by the \n",
        "    Document class, Category class and the Pool class.\"\"\"\n",
        "    \n",
        "    def __init__(self):\n",
        "        self.__number_of_words = 0\n",
        "        self.__bag_of_words = {}\n",
        "        \n",
        "        \n",
        "    def __add__(self, other):\n",
        "        \"\"\" Overloading of the \"+\" operator to join two BagOfWords \"\"\"\n",
        "        \n",
        "        erg = BagOfWords() \n",
        "        erg.__bag_of_words = dict_merge_sum(self.__bag_of_words, \n",
        "                                            other.__bag_of_words)\n",
        "        return erg\n",
        "        \n",
        "    def add_word(self,word):\n",
        "        \"\"\" A word is added in the dictionary __bag_of_words\"\"\"\n",
        "        self.__number_of_words += 1\n",
        "        if word in self.__bag_of_words:\n",
        "            self.__bag_of_words[word] += 1\n",
        "        else:\n",
        "            self.__bag_of_words[word] = 1\n",
        "    \n",
        "    def len(self):\n",
        "        \"\"\" Returning the number of different words of an object \"\"\"\n",
        "        return len(self.__bag_of_words)\n",
        "    \n",
        "    def Words(self):\n",
        "        \"\"\" Returning a list of the words contained in the object \"\"\"\n",
        "        return self.__bag_of_words.keys()\n",
        "    \n",
        "        \n",
        "    def BagOfWords(self):\n",
        "        \"\"\" Returning the dictionary, containing the words (keys) with their frequency (values)\"\"\"\n",
        "        return self.__bag_of_words\n",
        "        \n",
        "    def WordFreq(self,word):\n",
        "        \"\"\" Returning the frequency of a word \"\"\"\n",
        "        if word in self.__bag_of_words:\n",
        "            return self.__bag_of_words[word]\n",
        "        else:\n",
        "            return 0"
      ],
      "metadata": {
        "id": "7uWk61cAMUcT"
      },
      "execution_count": 58,
      "outputs": []
    },
    {
      "cell_type": "code",
      "source": [
        "class Document(object):\n",
        "    \"\"\" Used both for learning (training) documents and for testing documents. The optional parameter lear\n",
        "    has to be set to True, if a classificator should be trained. If it is a test document learn has to be set to False. \"\"\"\n",
        "    _vocabulary = BagOfWords()\n",
        " \n",
        "    def __init__(self, vocabulary):\n",
        "        self.__name = \"\"\n",
        "        self.__document_class = None\n",
        "        self._words_and_freq = BagOfWords()\n",
        "        Document._vocabulary = vocabulary\n",
        "    \n",
        "    def read_document(self,filename, learn=False):\n",
        "        \"\"\" A document is read. It is assumed that the document is either encoded in utf-8 or in iso-8859... (latin-1).\n",
        "        The words of the document are stored in a Bag of Words, i.e. self._words_and_freq = BagOfWords() \"\"\"\n",
        "        try:\n",
        "            text = open(filename,\"r\", encoding='utf-8').read()\n",
        "        except UnicodeDecodeError:\n",
        "            text = open(filename,\"r\", encoding='latin-1').read()\n",
        "        text = text.lower()\n",
        "        words = re.split(r\"\\W\",text)\n",
        "\n",
        "        self._number_of_words = 0\n",
        "        for word in words:\n",
        "            self._words_and_freq.add_word(word)\n",
        "            if learn:\n",
        "                Document._vocabulary.add_word(word)\n",
        "\n",
        "\n",
        "    def __add__(self,other):\n",
        "        \"\"\" Overloading the \"+\" operator. Adding two documents consists in adding the BagOfWords of the Documents \"\"\"\n",
        "        res = Document(Document._vocabulary)\n",
        "        res._words_and_freq = self._words_and_freq + other._words_and_freq    \n",
        "        return res\n",
        "    \n",
        "    def vocabulary_length(self):\n",
        "        \"\"\" Returning the length of the vocabulary \"\"\"\n",
        "        return len(Document._vocabulary)\n",
        "                \n",
        "    def WordsAndFreq(self):\n",
        "        \"\"\" Returning the dictionary, containing the words (keys) with their frequency (values) as contained\n",
        "        in the BagOfWords attribute of the document\"\"\"\n",
        "        return self._words_and_freq.BagOfWords()\n",
        "        \n",
        "    def Words(self):\n",
        "        \"\"\" Returning the words of the Document object \"\"\"\n",
        "        d =  self._words_and_freq.BagOfWords()\n",
        "        return d.keys()\n",
        "    \n",
        "    def WordFreq(self,word):\n",
        "        \"\"\" Returning the number of times the word \"word\" appeared in the document \"\"\"\n",
        "        bow =  self._words_and_freq.BagOfWords()\n",
        "        if word in bow:\n",
        "            return bow[word]\n",
        "        else:\n",
        "            return 0\n",
        "                \n",
        "    def __and__(self, other):\n",
        "        \"\"\" Intersection of two documents. A list of words occuring in both documents is returned \"\"\"\n",
        "        intersection = []\n",
        "        words1 = self.Words()\n",
        "        for word in other.Words():\n",
        "            if word in words1:\n",
        "                intersection += [word]\n",
        "        return intersection"
      ],
      "metadata": {
        "id": "Spkyoq6uMZ2L"
      },
      "execution_count": 59,
      "outputs": []
    },
    {
      "cell_type": "code",
      "source": [
        "class Category(Document):\n",
        "    def __init__(self, vocabulary):\n",
        "        Document.__init__(self, vocabulary)\n",
        "        self._number_of_docs = 0\n",
        "\n",
        "    def Probability(self,word):\n",
        "        \"\"\" returns the probabilty of the word \"word\" given the class \"self\" \"\"\"\n",
        "        voc_len = Document._vocabulary.len()\n",
        "        SumN = 0\n",
        "        for i in range(voc_len):\n",
        "            SumN = Category._vocabulary.WordFreq(word)\n",
        "        N = self._words_and_freq.WordFreq(word)\n",
        "        erg = 1 + N\n",
        "        erg /= voc_len + SumN\n",
        "        return erg\n",
        "\n",
        "    def __add__(self,other):\n",
        "        \"\"\" Overloading the \"+\" operator. Adding two Category objects consists in adding the \n",
        "        BagOfWords of the Category objects \"\"\"\n",
        "        res = Category(self._vocabulary)\n",
        "        res._words_and_freq = self._words_and_freq + other._words_and_freq \n",
        " \n",
        "        return res\n",
        "\n",
        "    def SetNumberOfDocs(self, number):\n",
        "        self._number_of_docs = number\n",
        "    \n",
        "    def NumberOfDocuments(self):\n",
        "        return self._number_of_docs"
      ],
      "metadata": {
        "id": "RTUHZqJdMday"
      },
      "execution_count": 60,
      "outputs": []
    },
    {
      "cell_type": "code",
      "source": [
        "class Pool(object):\n",
        "    def __init__(self):\n",
        "        self.__document_classes = {}\n",
        "        self.__vocabulary = BagOfWords()\n",
        "            \n",
        "    def sum_words_in_class(self, dclass):\n",
        "        \"\"\" The number of times all different words of a dclass appear in a class \"\"\"\n",
        "        sum = 0\n",
        "        for word in self.__vocabulary.Words():\n",
        "            WaF = self.__document_classes[dclass].WordsAndFreq()\n",
        "            if word in WaF:\n",
        "                sum +=  WaF[word]\n",
        "        return sum\n",
        "    \n",
        "    def learn(self, directory, dclass_name):\n",
        "        \"\"\" directory is a path, where the files of the class with the name dclass_name can be found \"\"\"\n",
        "        x = Category(self.__vocabulary)\n",
        "        dir = os.listdir(directory)\n",
        "        for file in dir:\n",
        "            d = Document(self.__vocabulary)\n",
        "            #print(directory + \"/\" + file)\n",
        "            d.read_document(directory + \"/\" +  file, learn = True)\n",
        "            x = x + d\n",
        "        self.__document_classes[dclass_name] = x\n",
        "        x.SetNumberOfDocs(len(dir))\n",
        "\n",
        "    \n",
        "    def Probability(self, doc, dclass = \"\"):\n",
        "        \"\"\"Calculates the probability for a class dclass given a document doc\"\"\"\n",
        "        if dclass:\n",
        "            sum_dclass = self.sum_words_in_class(dclass)\n",
        "            prob = 0\n",
        "        \n",
        "            d = Document(self.__vocabulary)\n",
        "            d.read_document(doc)\n",
        "\n",
        "            for j in self.__document_classes:\n",
        "                sum_j = self.sum_words_in_class(j)\n",
        "                prod = 1\n",
        "                for i in d.Words():\n",
        "                    wf_dclass = 1 + self.__document_classes[dclass].WordFreq(i)\n",
        "                    wf = 1 + self.__document_classes[j].WordFreq(i)\n",
        "                    r = wf * sum_dclass / (wf_dclass * sum_j)\n",
        "                    prod *= r\n",
        "                prob += prod * self.__document_classes[j].NumberOfDocuments() / self.__document_classes[dclass].NumberOfDocuments()\n",
        "            if prob != 0:\n",
        "                return 1 / prob\n",
        "            else:\n",
        "                return -1\n",
        "        else:\n",
        "            prob_list = []\n",
        "            for dclass in self.__document_classes:\n",
        "                prob = self.Probability(doc, dclass)\n",
        "                prob_list.append([dclass,prob])\n",
        "            prob_list.sort(key = lambda x: x[1], reverse = True)\n",
        "            return prob_list\n",
        "\n",
        "    def DocumentIntersectionWithClasses(self, doc_name):\n",
        "        res = [doc_name]\n",
        "        for dc in self.__document_classes:\n",
        "            d = Document(self.__vocabulary)\n",
        "            d.read_document(doc_name, learn=False)\n",
        "            o = self.__document_classes[dc] &  d\n",
        "            intersection_ratio = len(o) / len(d.Words())\n",
        "            res += (dc, intersection_ratio)\n",
        "        return res"
      ],
      "metadata": {
        "id": "rb_kgZA1MgtL"
      },
      "execution_count": 61,
      "outputs": []
    },
    {
      "cell_type": "code",
      "source": [
        "text =  data_1.loc[:,[\"text\"]]\n",
        "text.head()"
      ],
      "metadata": {
        "colab": {
          "base_uri": "https://localhost:8080/",
          "height": 206
        },
        "id": "ETOm3B53SyhM",
        "outputId": "84c42a5d-ea53-41a4-e00a-13634544ca3b"
      },
      "execution_count": 83,
      "outputs": [
        {
          "output_type": "execute_result",
          "data": {
            "text/plain": [
              "                                                text\n",
              "1  Extrapolation and learning equations. In class...\n",
              "2  Relational Multi-Instance Learning for Concept...\n",
              "3  Analysis of Memory Organization for Dynamic Ne...\n",
              "4  Learning Graph Representations by Dendrograms....\n",
              "5  On the Computational Inefficiency of Large Bat..."
            ],
            "text/html": [
              "\n",
              "  <div id=\"df-86144c11-86a9-4838-9f2f-e204c8ec62b6\">\n",
              "    <div class=\"colab-df-container\">\n",
              "      <div>\n",
              "<style scoped>\n",
              "    .dataframe tbody tr th:only-of-type {\n",
              "        vertical-align: middle;\n",
              "    }\n",
              "\n",
              "    .dataframe tbody tr th {\n",
              "        vertical-align: top;\n",
              "    }\n",
              "\n",
              "    .dataframe thead th {\n",
              "        text-align: right;\n",
              "    }\n",
              "</style>\n",
              "<table border=\"1\" class=\"dataframe\">\n",
              "  <thead>\n",
              "    <tr style=\"text-align: right;\">\n",
              "      <th></th>\n",
              "      <th>text</th>\n",
              "    </tr>\n",
              "  </thead>\n",
              "  <tbody>\n",
              "    <tr>\n",
              "      <th>1</th>\n",
              "      <td>Extrapolation and learning equations. In class...</td>\n",
              "    </tr>\n",
              "    <tr>\n",
              "      <th>2</th>\n",
              "      <td>Relational Multi-Instance Learning for Concept...</td>\n",
              "    </tr>\n",
              "    <tr>\n",
              "      <th>3</th>\n",
              "      <td>Analysis of Memory Organization for Dynamic Ne...</td>\n",
              "    </tr>\n",
              "    <tr>\n",
              "      <th>4</th>\n",
              "      <td>Learning Graph Representations by Dendrograms....</td>\n",
              "    </tr>\n",
              "    <tr>\n",
              "      <th>5</th>\n",
              "      <td>On the Computational Inefficiency of Large Bat...</td>\n",
              "    </tr>\n",
              "  </tbody>\n",
              "</table>\n",
              "</div>\n",
              "      <button class=\"colab-df-convert\" onclick=\"convertToInteractive('df-86144c11-86a9-4838-9f2f-e204c8ec62b6')\"\n",
              "              title=\"Convert this dataframe to an interactive table.\"\n",
              "              style=\"display:none;\">\n",
              "        \n",
              "  <svg xmlns=\"http://www.w3.org/2000/svg\" height=\"24px\"viewBox=\"0 0 24 24\"\n",
              "       width=\"24px\">\n",
              "    <path d=\"M0 0h24v24H0V0z\" fill=\"none\"/>\n",
              "    <path d=\"M18.56 5.44l.94 2.06.94-2.06 2.06-.94-2.06-.94-.94-2.06-.94 2.06-2.06.94zm-11 1L8.5 8.5l.94-2.06 2.06-.94-2.06-.94L8.5 2.5l-.94 2.06-2.06.94zm10 10l.94 2.06.94-2.06 2.06-.94-2.06-.94-.94-2.06-.94 2.06-2.06.94z\"/><path d=\"M17.41 7.96l-1.37-1.37c-.4-.4-.92-.59-1.43-.59-.52 0-1.04.2-1.43.59L10.3 9.45l-7.72 7.72c-.78.78-.78 2.05 0 2.83L4 21.41c.39.39.9.59 1.41.59.51 0 1.02-.2 1.41-.59l7.78-7.78 2.81-2.81c.8-.78.8-2.07 0-2.86zM5.41 20L4 18.59l7.72-7.72 1.47 1.35L5.41 20z\"/>\n",
              "  </svg>\n",
              "      </button>\n",
              "      \n",
              "  <style>\n",
              "    .colab-df-container {\n",
              "      display:flex;\n",
              "      flex-wrap:wrap;\n",
              "      gap: 12px;\n",
              "    }\n",
              "\n",
              "    .colab-df-convert {\n",
              "      background-color: #E8F0FE;\n",
              "      border: none;\n",
              "      border-radius: 50%;\n",
              "      cursor: pointer;\n",
              "      display: none;\n",
              "      fill: #1967D2;\n",
              "      height: 32px;\n",
              "      padding: 0 0 0 0;\n",
              "      width: 32px;\n",
              "    }\n",
              "\n",
              "    .colab-df-convert:hover {\n",
              "      background-color: #E2EBFA;\n",
              "      box-shadow: 0px 1px 2px rgba(60, 64, 67, 0.3), 0px 1px 3px 1px rgba(60, 64, 67, 0.15);\n",
              "      fill: #174EA6;\n",
              "    }\n",
              "\n",
              "    [theme=dark] .colab-df-convert {\n",
              "      background-color: #3B4455;\n",
              "      fill: #D2E3FC;\n",
              "    }\n",
              "\n",
              "    [theme=dark] .colab-df-convert:hover {\n",
              "      background-color: #434B5C;\n",
              "      box-shadow: 0px 1px 3px 1px rgba(0, 0, 0, 0.15);\n",
              "      filter: drop-shadow(0px 1px 2px rgba(0, 0, 0, 0.3));\n",
              "      fill: #FFFFFF;\n",
              "    }\n",
              "  </style>\n",
              "\n",
              "      <script>\n",
              "        const buttonEl =\n",
              "          document.querySelector('#df-86144c11-86a9-4838-9f2f-e204c8ec62b6 button.colab-df-convert');\n",
              "        buttonEl.style.display =\n",
              "          google.colab.kernel.accessAllowed ? 'block' : 'none';\n",
              "\n",
              "        async function convertToInteractive(key) {\n",
              "          const element = document.querySelector('#df-86144c11-86a9-4838-9f2f-e204c8ec62b6');\n",
              "          const dataTable =\n",
              "            await google.colab.kernel.invokeFunction('convertToInteractive',\n",
              "                                                     [key], {});\n",
              "          if (!dataTable) return;\n",
              "\n",
              "          const docLinkHtml = 'Like what you see? Visit the ' +\n",
              "            '<a target=\"_blank\" href=https://colab.research.google.com/notebooks/data_table.ipynb>data table notebook</a>'\n",
              "            + ' to learn more about interactive tables.';\n",
              "          element.innerHTML = '';\n",
              "          dataTable['output_type'] = 'display_data';\n",
              "          await google.colab.output.renderOutput(dataTable, element);\n",
              "          const docLink = document.createElement('div');\n",
              "          docLink.innerHTML = docLinkHtml;\n",
              "          element.appendChild(docLink);\n",
              "        }\n",
              "      </script>\n",
              "    </div>\n",
              "  </div>\n",
              "  "
            ]
          },
          "metadata": {},
          "execution_count": 83
        }
      ]
    },
    {
      "cell_type": "code",
      "source": [
        "# Word tokenization\n",
        "from spacy.lang.en import English\n",
        "\n",
        "# Load English tokenizer, tagger, parser, NER and word vectors\n",
        "nlp = English()\n",
        "\n",
        "text = \"\"\"Extrapolation and learning equations. In classical machine learning, regression is treated as a black box process of identifying a suitable function from a hypothesis set without attempting to gain insight into the mechanism connecting inputs and outputs. In the natural sciences, however, finding an interpretable function for a phenomenon is the prime goal as it allows to understand and generalize results. This paper proposes a novel type of function learning network, called equation learner (EQL), that can learn analytical expressions and is able to extrapolate to unseen domains. It is implemented as an end-to-end differentiable feed-forward network and allows for efficient gradient based training. Due to sparsity regularization concise interpretable expressions can be obtained. Often the true underlying source expression is identified.. Thank you for an interesting perspective on the neural approaches to approximate physical phenomenon. This paper describes a method to extrapolate a given dataset and predict formulae with naturally occurring functions like sine, cosine, multiplication etc. Pros - The approach is rather simple and hence can be applied to existing methods. The major difference is incorporating functions with 2 or more inputs which was done successfully in the paper. - It seems that MLP, even though it is good for interpolation, it fails to extrapolate data to model the correct function. It was a great idea to use basis functions like sine, cosine to make the approach more explicit. Cons - Page 8, the claim that x2 cos(ax1 + b) ~ 1.21(cos(-ax1 + ? + b + 0.41x2) + sin(ax1 + b + 0.41x2)) for y in [-2,2] is not entirely correct. There should be some restrictions on *a* and *b* as well as the approximate equality doesn*t hold for all real values of *a* and *b*. Although, for a=2*pi and b=pi/4, the claim is correct so the model is predicting a correct solution within certain limits. - Most of the experiments involve up to 4 variables. It would be interesting to see how the neural approach models hundreds of variables. - Another way of looking at the model is that the non-linearities like sine, cosine, multiplication act as basis functions. If the data is a linear combination of such functions, the model will be able to learn the weights. As division is not one of the non-linearities, predicting expressions in Equation 13 seems unlikely. Hence, I was wondering, is it possible to make sure that this architecture is a universal approximator. Suggested Edits - Page 8, It seems that there is a typographical error in the expression 1.21(cos(ax1 + ? + b + 0.41x2) + sin(ax1 + b + 0.41x2)). When compared with the predicted formula in Figure 4(b), it should be 1.21(cos(-ax1 + ? + b + 0.41x2) + sin(ax1 + b + 0.41x2)).. This paper proposes using functions such as sin and cos as basis functions, then training a neural network with L1 regularization to obtain a simple estimate of functions that can extrapolate under some circumstances. Pros: - the paper has a wide-ranging discussion connecting extrapolation in regression problems to adjacent fields of system identification and causal learning. - the method is sensible enough, and should probably be a baseline in the time-series literature. It also seems like an advance on the hard-to-optimize Eureqa method. Cons: I agree with the authors that Reviewer 5*s comments aren*t very helpful, but this paper really does ignore or dismiss a lot of recent progress and related methods. Specifically: - The authors claim that cross-validation can*t be used to choose the model, since it wouldn*t encourage extrapolation - but why not partition the data in contiguous chunks, as is done in time-series methods? - The authors introduce an annealing trick to help with the L1 objective, but there is a rich literature on gradient-based optimization methods with L1 regularization that address exactly this problem. - The authors mostly consider toy data, limiting the potential impact of their method. - The authors don*t compare against closely related methods developed to address the exact same setting. Namely, Schmit + Lipson*s Eureqa method, and the Gaussian process methods of Duvenaud, Lloyd, Grosse, Tenenbaum and Ghahramani. - The authors invent their own ad-hoc model-selection procedure, again ignoring a massive literature. Given the many *cons*, it is recommended that this paper not be presented at the conference track, but be featured at the workshop track.\"\"\"\n",
        "\n",
        "#  \"nlp\" Object is used to create documents with linguistic annotations.\n",
        "my_doc = nlp(text)\n",
        "\n",
        "# Create list of word tokens\n",
        "token_list = []\n",
        "for token in my_doc:\n",
        "    token_list.append(token.text)\n",
        "print(token_list)"
      ],
      "metadata": {
        "colab": {
          "base_uri": "https://localhost:8080/"
        },
        "id": "Qos_4CTiRqHb",
        "outputId": "1b47fe74-f082-4a00-e606-f03163f3db9e"
      },
      "execution_count": 84,
      "outputs": [
        {
          "output_type": "stream",
          "name": "stdout",
          "text": [
            "['Extrapolation', 'and', 'learning', 'equations', '.', 'In', 'classical', 'machine', 'learning', ',', 'regression', 'is', 'treated', 'as', 'a', 'black', 'box', 'process', 'of', 'identifying', 'a', 'suitable', 'function', 'from', 'a', 'hypothesis', 'set', 'without', 'attempting', 'to', 'gain', 'insight', 'into', 'the', 'mechanism', 'connecting', 'inputs', 'and', 'outputs', '.', 'In', 'the', 'natural', 'sciences', ',', 'however', ',', 'finding', 'an', 'interpretable', 'function', 'for', 'a', 'phenomenon', 'is', 'the', 'prime', 'goal', 'as', 'it', 'allows', 'to', 'understand', 'and', 'generalize', 'results', '.', 'This', 'paper', 'proposes', 'a', 'novel', 'type', 'of', 'function', 'learning', 'network', ',', 'called', 'equation', 'learner', '(', 'EQL', ')', ',', 'that', 'can', 'learn', 'analytical', 'expressions', 'and', 'is', 'able', 'to', 'extrapolate', 'to', 'unseen', 'domains', '.', 'It', 'is', 'implemented', 'as', 'an', 'end', '-', 'to', '-', 'end', 'differentiable', 'feed', '-', 'forward', 'network', 'and', 'allows', 'for', 'efficient', 'gradient', 'based', 'training', '.', 'Due', 'to', 'sparsity', 'regularization', 'concise', 'interpretable', 'expressions', 'can', 'be', 'obtained', '.', 'Often', 'the', 'true', 'underlying', 'source', 'expression', 'is', 'identified', '..', 'Thank', 'you', 'for', 'an', 'interesting', 'perspective', 'on', 'the', 'neural', 'approaches', 'to', 'approximate', 'physical', 'phenomenon', '.', 'This', 'paper', 'describes', 'a', 'method', 'to', 'extrapolate', 'a', 'given', 'dataset', 'and', 'predict', 'formulae', 'with', 'naturally', 'occurring', 'functions', 'like', 'sine', ',', 'cosine', ',', 'multiplication', 'etc', '.', 'Pros', '-', 'The', 'approach', 'is', 'rather', 'simple', 'and', 'hence', 'can', 'be', 'applied', 'to', 'existing', 'methods', '.', 'The', 'major', 'difference', 'is', 'incorporating', 'functions', 'with', '2', 'or', 'more', 'inputs', 'which', 'was', 'done', 'successfully', 'in', 'the', 'paper', '.', '-', 'It', 'seems', 'that', 'MLP', ',', 'even', 'though', 'it', 'is', 'good', 'for', 'interpolation', ',', 'it', 'fails', 'to', 'extrapolate', 'data', 'to', 'model', 'the', 'correct', 'function', '.', 'It', 'was', 'a', 'great', 'idea', 'to', 'use', 'basis', 'functions', 'like', 'sine', ',', 'cosine', 'to', 'make', 'the', 'approach', 'more', 'explicit', '.', 'Cons', '-', 'Page', '8', ',', 'the', 'claim', 'that', 'x2', 'cos(ax1', '+', 'b', ')', '~', '1.21(cos(-ax1', '+', '?', '+', 'b', '+', '0.41x2', ')', '+', 'sin(ax1', '+', 'b', '+', '0.41x2', ')', ')', 'for', 'y', 'in', '[', '-2,2', ']', 'is', 'not', 'entirely', 'correct', '.', 'There', 'should', 'be', 'some', 'restrictions', 'on', '*', 'a', '*', 'and', '*', 'b', '*', 'as', 'well', 'as', 'the', 'approximate', 'equality', 'doesn*t', 'hold', 'for', 'all', 'real', 'values', 'of', '*', 'a', '*', 'and', '*', 'b', '*', '.', 'Although', ',', 'for', 'a=2*pi', 'and', 'b', '=', 'pi/4', ',', 'the', 'claim', 'is', 'correct', 'so', 'the', 'model', 'is', 'predicting', 'a', 'correct', 'solution', 'within', 'certain', 'limits', '.', '-', 'Most', 'of', 'the', 'experiments', 'involve', 'up', 'to', '4', 'variables', '.', 'It', 'would', 'be', 'interesting', 'to', 'see', 'how', 'the', 'neural', 'approach', 'models', 'hundreds', 'of', 'variables', '.', '-', 'Another', 'way', 'of', 'looking', 'at', 'the', 'model', 'is', 'that', 'the', 'non', '-', 'linearities', 'like', 'sine', ',', 'cosine', ',', 'multiplication', 'act', 'as', 'basis', 'functions', '.', 'If', 'the', 'data', 'is', 'a', 'linear', 'combination', 'of', 'such', 'functions', ',', 'the', 'model', 'will', 'be', 'able', 'to', 'learn', 'the', 'weights', '.', 'As', 'division', 'is', 'not', 'one', 'of', 'the', 'non', '-', 'linearities', ',', 'predicting', 'expressions', 'in', 'Equation', '13', 'seems', 'unlikely', '.', 'Hence', ',', 'I', 'was', 'wondering', ',', 'is', 'it', 'possible', 'to', 'make', 'sure', 'that', 'this', 'architecture', 'is', 'a', 'universal', 'approximator', '.', 'Suggested', 'Edits', '-', 'Page', '8', ',', 'It', 'seems', 'that', 'there', 'is', 'a', 'typographical', 'error', 'in', 'the', 'expression', '1.21(cos(ax1', '+', '?', '+', 'b', '+', '0.41x2', ')', '+', 'sin(ax1', '+', 'b', '+', '0.41x2', ')', ')', '.', 'When', 'compared', 'with', 'the', 'predicted', 'formula', 'in', 'Figure', '4(b', ')', ',', 'it', 'should', 'be', '1.21(cos(-ax1', '+', '?', '+', 'b', '+', '0.41x2', ')', '+', 'sin(ax1', '+', 'b', '+', '0.41x2', ')', ')', '..', 'This', 'paper', 'proposes', 'using', 'functions', 'such', 'as', 'sin', 'and', 'cos', 'as', 'basis', 'functions', ',', 'then', 'training', 'a', 'neural', 'network', 'with', 'L1', 'regularization', 'to', 'obtain', 'a', 'simple', 'estimate', 'of', 'functions', 'that', 'can', 'extrapolate', 'under', 'some', 'circumstances', '.', 'Pros', ':', '-', 'the', 'paper', 'has', 'a', 'wide', '-', 'ranging', 'discussion', 'connecting', 'extrapolation', 'in', 'regression', 'problems', 'to', 'adjacent', 'fields', 'of', 'system', 'identification', 'and', 'causal', 'learning', '.', '-', 'the', 'method', 'is', 'sensible', 'enough', ',', 'and', 'should', 'probably', 'be', 'a', 'baseline', 'in', 'the', 'time', '-', 'series', 'literature', '.', 'It', 'also', 'seems', 'like', 'an', 'advance', 'on', 'the', 'hard', '-', 'to', '-', 'optimize', 'Eureqa', 'method', '.', 'Cons', ':', 'I', 'agree', 'with', 'the', 'authors', 'that', 'Reviewer', '5*s', 'comments', 'aren*t', 'very', 'helpful', ',', 'but', 'this', 'paper', 'really', 'does', 'ignore', 'or', 'dismiss', 'a', 'lot', 'of', 'recent', 'progress', 'and', 'related', 'methods', '.', 'Specifically', ':', '-', 'The', 'authors', 'claim', 'that', 'cross', '-', 'validation', 'can*t', 'be', 'used', 'to', 'choose', 'the', 'model', ',', 'since', 'it', 'wouldn*t', 'encourage', 'extrapolation', '-', 'but', 'why', 'not', 'partition', 'the', 'data', 'in', 'contiguous', 'chunks', ',', 'as', 'is', 'done', 'in', 'time', '-', 'series', 'methods', '?', '-', 'The', 'authors', 'introduce', 'an', 'annealing', 'trick', 'to', 'help', 'with', 'the', 'L1', 'objective', ',', 'but', 'there', 'is', 'a', 'rich', 'literature', 'on', 'gradient', '-', 'based', 'optimization', 'methods', 'with', 'L1', 'regularization', 'that', 'address', 'exactly', 'this', 'problem', '.', '-', 'The', 'authors', 'mostly', 'consider', 'toy', 'data', ',', 'limiting', 'the', 'potential', 'impact', 'of', 'their', 'method', '.', '-', 'The', 'authors', 'don*t', 'compare', 'against', 'closely', 'related', 'methods', 'developed', 'to', 'address', 'the', 'exact', 'same', 'setting', '.', 'Namely', ',', 'Schmit', '+', 'Lipson*s', 'Eureqa', 'method', ',', 'and', 'the', 'Gaussian', 'process', 'methods', 'of', 'Duvenaud', ',', 'Lloyd', ',', 'Grosse', ',', 'Tenenbaum', 'and', 'Ghahramani', '.', '-', 'The', 'authors', 'invent', 'their', 'own', 'ad', '-', 'hoc', 'model', '-', 'selection', 'procedure', ',', 'again', 'ignoring', 'a', 'massive', 'literature', '.', 'Given', 'the', 'many', '*', 'cons', '*', ',', 'it', 'is', 'recommended', 'that', 'this', 'paper', 'not', 'be', 'presented', 'at', 'the', 'conference', 'track', ',', 'but', 'be', 'featured', 'at', 'the', 'workshop', 'track', '.']\n"
          ]
        }
      ]
    },
    {
      "cell_type": "code",
      "source": [
        "#Stop words\n",
        "#importing stop words from English language.\n",
        "import spacy\n",
        "spacy_stopwords = spacy.lang.en.stop_words.STOP_WORDS\n",
        "\n",
        "#Printing the total number of stop words:\n",
        "print('Number of stop words: %d' % len(spacy_stopwords))\n",
        "\n",
        "#Printing first ten stop words:\n",
        "print('First ten stop words: %s' % list(spacy_stopwords)[:20])"
      ],
      "metadata": {
        "colab": {
          "base_uri": "https://localhost:8080/"
        },
        "id": "Zpt57OXtTWBd",
        "outputId": "7e182b0f-f884-4364-9a16-76edccce9887"
      },
      "execution_count": 85,
      "outputs": [
        {
          "output_type": "stream",
          "name": "stdout",
          "text": [
            "Number of stop words: 326\n",
            "First ten stop words: ['though', 'part', 'hereupon', 'elsewhere', 'but', 'still', 'various', 'except', 'you', 'besides', 'namely', 'nowhere', 'whence', 'otherwise', 'me', 'our', 'seeming', 'can', 'front', 'much']\n"
          ]
        }
      ]
    },
    {
      "cell_type": "code",
      "source": [
        "from spacy.lang.en.stop_words import STOP_WORDS\n",
        "\n",
        "#Implementation of stop words:\n",
        "filtered_sent=[]\n",
        "\n",
        "#  \"nlp\" Object is used to create documents with linguistic annotations.\n",
        "doc = nlp(text)\n",
        "\n",
        "# filtering stop words\n",
        "for word in doc:\n",
        "    if word.is_stop==False:\n",
        "        filtered_sent.append(word)\n",
        "print(\"Filtered Sentence:\",filtered_sent)"
      ],
      "metadata": {
        "colab": {
          "base_uri": "https://localhost:8080/"
        },
        "id": "1HWfUIoLTWcZ",
        "outputId": "ef88a276-6806-468b-e309-2cb530d206a4"
      },
      "execution_count": 86,
      "outputs": [
        {
          "output_type": "stream",
          "name": "stdout",
          "text": [
            "Filtered Sentence: [Extrapolation, learning, equations, ., classical, machine, learning, ,, regression, treated, black, box, process, identifying, suitable, function, hypothesis, set, attempting, gain, insight, mechanism, connecting, inputs, outputs, ., natural, sciences, ,, ,, finding, interpretable, function, phenomenon, prime, goal, allows, understand, generalize, results, ., paper, proposes, novel, type, function, learning, network, ,, called, equation, learner, (, EQL, ), ,, learn, analytical, expressions, able, extrapolate, unseen, domains, ., implemented, end, -, -, end, differentiable, feed, -, forward, network, allows, efficient, gradient, based, training, ., sparsity, regularization, concise, interpretable, expressions, obtained, ., true, underlying, source, expression, identified, .., Thank, interesting, perspective, neural, approaches, approximate, physical, phenomenon, ., paper, describes, method, extrapolate, given, dataset, predict, formulae, naturally, occurring, functions, like, sine, ,, cosine, ,, multiplication, etc, ., Pros, -, approach, simple, applied, existing, methods, ., major, difference, incorporating, functions, 2, inputs, successfully, paper, ., -, MLP, ,, good, interpolation, ,, fails, extrapolate, data, model, correct, function, ., great, idea, use, basis, functions, like, sine, ,, cosine, approach, explicit, ., Cons, -, Page, 8, ,, claim, x2, cos(ax1, +, b, ), ~, 1.21(cos(-ax1, +, ?, +, b, +, 0.41x2, ), +, sin(ax1, +, b, +, 0.41x2, ), ), y, [, -2,2, ], entirely, correct, ., restrictions, *, *, *, b, *, approximate, equality, doesn*t, hold, real, values, *, *, *, b, *, ., ,, a=2*pi, b, =, pi/4, ,, claim, correct, model, predicting, correct, solution, certain, limits, ., -, experiments, involve, 4, variables, ., interesting, neural, approach, models, hundreds, variables, ., -, way, looking, model, non, -, linearities, like, sine, ,, cosine, ,, multiplication, act, basis, functions, ., data, linear, combination, functions, ,, model, able, learn, weights, ., division, non, -, linearities, ,, predicting, expressions, Equation, 13, unlikely, ., ,, wondering, ,, possible, sure, architecture, universal, approximator, ., Suggested, Edits, -, Page, 8, ,, typographical, error, expression, 1.21(cos(ax1, +, ?, +, b, +, 0.41x2, ), +, sin(ax1, +, b, +, 0.41x2, ), ), ., compared, predicted, formula, Figure, 4(b, ), ,, 1.21(cos(-ax1, +, ?, +, b, +, 0.41x2, ), +, sin(ax1, +, b, +, 0.41x2, ), ), .., paper, proposes, functions, sin, cos, basis, functions, ,, training, neural, network, L1, regularization, obtain, simple, estimate, functions, extrapolate, circumstances, ., Pros, :, -, paper, wide, -, ranging, discussion, connecting, extrapolation, regression, problems, adjacent, fields, system, identification, causal, learning, ., -, method, sensible, ,, probably, baseline, time, -, series, literature, ., like, advance, hard, -, -, optimize, Eureqa, method, ., Cons, :, agree, authors, Reviewer, 5*s, comments, aren*t, helpful, ,, paper, ignore, dismiss, lot, recent, progress, related, methods, ., Specifically, :, -, authors, claim, cross, -, validation, can*t, choose, model, ,, wouldn*t, encourage, extrapolation, -, partition, data, contiguous, chunks, ,, time, -, series, methods, ?, -, authors, introduce, annealing, trick, help, L1, objective, ,, rich, literature, gradient, -, based, optimization, methods, L1, regularization, address, exactly, problem, ., -, authors, consider, toy, data, ,, limiting, potential, impact, method, ., -, authors, don*t, compare, closely, related, methods, developed, address, exact, setting, ., ,, Schmit, +, Lipson*s, Eureqa, method, ,, Gaussian, process, methods, Duvenaud, ,, Lloyd, ,, Grosse, ,, Tenenbaum, Ghahramani, ., -, authors, invent, ad, -, hoc, model, -, selection, procedure, ,, ignoring, massive, literature, ., Given, *, cons, *, ,, recommended, paper, presented, conference, track, ,, featured, workshop, track, .]\n"
          ]
        }
      ]
    },
    {
      "cell_type": "code",
      "source": [
        "# Implementing lemmatization\n",
        "lem = nlp(\"run runs running runner\")\n",
        "# finding lemma for each word\n",
        "for word in lem:\n",
        "    print(word.text,word.lemma_)"
      ],
      "metadata": {
        "colab": {
          "base_uri": "https://localhost:8080/"
        },
        "id": "gK7OzhD0TaUZ",
        "outputId": "c09ee30c-83bc-4b15-cd21-2993f437da5f"
      },
      "execution_count": 87,
      "outputs": [
        {
          "output_type": "stream",
          "name": "stdout",
          "text": [
            "run run\n",
            "runs runs\n",
            "running running\n",
            "runner runner\n"
          ]
        }
      ]
    },
    {
      "cell_type": "code",
      "source": [
        "import pandas as pd\n",
        "from sklearn.model_selection import train_test_split\n",
        "import joblib\n",
        "from sklearn.feature_extraction.text import CountVectorizer"
      ],
      "metadata": {
        "id": "Ij8ofATzTeIB"
      },
      "execution_count": 88,
      "outputs": []
    },
    {
      "cell_type": "code",
      "source": [
        "data = pd.read_csv('text_1.csv')"
      ],
      "metadata": {
        "id": "B4uPI8TSUQoK"
      },
      "execution_count": 89,
      "outputs": []
    },
    {
      "cell_type": "code",
      "source": [
        "data.head(10)"
      ],
      "metadata": {
        "colab": {
          "base_uri": "https://localhost:8080/",
          "height": 363
        },
        "id": "c96NONo3UVuC",
        "outputId": "333dab7f-c1cb-4c28-ea5b-c10201caf390"
      },
      "execution_count": 90,
      "outputs": [
        {
          "output_type": "execute_result",
          "data": {
            "text/plain": [
              "   Unnamed: 0  review_score                                               text\n",
              "0           1           7.0  Extrapolation and learning equations. In class...\n",
              "1           2           6.0  Relational Multi-Instance Learning for Concept...\n",
              "2           3           3.0  Analysis of Memory Organization for Dynamic Ne...\n",
              "3           4           5.0  Learning Graph Representations by Dendrograms....\n",
              "4           5           5.0  On the Computational Inefficiency of Large Bat...\n",
              "5           6           4.0  Improving Invariance and Equivariance Properti...\n",
              "6           9           3.0  Few-Shot Intent Inference via Meta-Inverse Rei...\n",
              "7          11           6.0  Optimal Attacks against Multiple Classifiers. ...\n",
              "8          12           7.0  Algorithmic Framework for Model-based Deep Rei...\n",
              "9          13           6.0  Long Short-Term Memory as a Dynamically Comput..."
            ],
            "text/html": [
              "\n",
              "  <div id=\"df-bc827e43-7123-42e2-b6e4-ea7932deda10\">\n",
              "    <div class=\"colab-df-container\">\n",
              "      <div>\n",
              "<style scoped>\n",
              "    .dataframe tbody tr th:only-of-type {\n",
              "        vertical-align: middle;\n",
              "    }\n",
              "\n",
              "    .dataframe tbody tr th {\n",
              "        vertical-align: top;\n",
              "    }\n",
              "\n",
              "    .dataframe thead th {\n",
              "        text-align: right;\n",
              "    }\n",
              "</style>\n",
              "<table border=\"1\" class=\"dataframe\">\n",
              "  <thead>\n",
              "    <tr style=\"text-align: right;\">\n",
              "      <th></th>\n",
              "      <th>Unnamed: 0</th>\n",
              "      <th>review_score</th>\n",
              "      <th>text</th>\n",
              "    </tr>\n",
              "  </thead>\n",
              "  <tbody>\n",
              "    <tr>\n",
              "      <th>0</th>\n",
              "      <td>1</td>\n",
              "      <td>7.0</td>\n",
              "      <td>Extrapolation and learning equations. In class...</td>\n",
              "    </tr>\n",
              "    <tr>\n",
              "      <th>1</th>\n",
              "      <td>2</td>\n",
              "      <td>6.0</td>\n",
              "      <td>Relational Multi-Instance Learning for Concept...</td>\n",
              "    </tr>\n",
              "    <tr>\n",
              "      <th>2</th>\n",
              "      <td>3</td>\n",
              "      <td>3.0</td>\n",
              "      <td>Analysis of Memory Organization for Dynamic Ne...</td>\n",
              "    </tr>\n",
              "    <tr>\n",
              "      <th>3</th>\n",
              "      <td>4</td>\n",
              "      <td>5.0</td>\n",
              "      <td>Learning Graph Representations by Dendrograms....</td>\n",
              "    </tr>\n",
              "    <tr>\n",
              "      <th>4</th>\n",
              "      <td>5</td>\n",
              "      <td>5.0</td>\n",
              "      <td>On the Computational Inefficiency of Large Bat...</td>\n",
              "    </tr>\n",
              "    <tr>\n",
              "      <th>5</th>\n",
              "      <td>6</td>\n",
              "      <td>4.0</td>\n",
              "      <td>Improving Invariance and Equivariance Properti...</td>\n",
              "    </tr>\n",
              "    <tr>\n",
              "      <th>6</th>\n",
              "      <td>9</td>\n",
              "      <td>3.0</td>\n",
              "      <td>Few-Shot Intent Inference via Meta-Inverse Rei...</td>\n",
              "    </tr>\n",
              "    <tr>\n",
              "      <th>7</th>\n",
              "      <td>11</td>\n",
              "      <td>6.0</td>\n",
              "      <td>Optimal Attacks against Multiple Classifiers. ...</td>\n",
              "    </tr>\n",
              "    <tr>\n",
              "      <th>8</th>\n",
              "      <td>12</td>\n",
              "      <td>7.0</td>\n",
              "      <td>Algorithmic Framework for Model-based Deep Rei...</td>\n",
              "    </tr>\n",
              "    <tr>\n",
              "      <th>9</th>\n",
              "      <td>13</td>\n",
              "      <td>6.0</td>\n",
              "      <td>Long Short-Term Memory as a Dynamically Comput...</td>\n",
              "    </tr>\n",
              "  </tbody>\n",
              "</table>\n",
              "</div>\n",
              "      <button class=\"colab-df-convert\" onclick=\"convertToInteractive('df-bc827e43-7123-42e2-b6e4-ea7932deda10')\"\n",
              "              title=\"Convert this dataframe to an interactive table.\"\n",
              "              style=\"display:none;\">\n",
              "        \n",
              "  <svg xmlns=\"http://www.w3.org/2000/svg\" height=\"24px\"viewBox=\"0 0 24 24\"\n",
              "       width=\"24px\">\n",
              "    <path d=\"M0 0h24v24H0V0z\" fill=\"none\"/>\n",
              "    <path d=\"M18.56 5.44l.94 2.06.94-2.06 2.06-.94-2.06-.94-.94-2.06-.94 2.06-2.06.94zm-11 1L8.5 8.5l.94-2.06 2.06-.94-2.06-.94L8.5 2.5l-.94 2.06-2.06.94zm10 10l.94 2.06.94-2.06 2.06-.94-2.06-.94-.94-2.06-.94 2.06-2.06.94z\"/><path d=\"M17.41 7.96l-1.37-1.37c-.4-.4-.92-.59-1.43-.59-.52 0-1.04.2-1.43.59L10.3 9.45l-7.72 7.72c-.78.78-.78 2.05 0 2.83L4 21.41c.39.39.9.59 1.41.59.51 0 1.02-.2 1.41-.59l7.78-7.78 2.81-2.81c.8-.78.8-2.07 0-2.86zM5.41 20L4 18.59l7.72-7.72 1.47 1.35L5.41 20z\"/>\n",
              "  </svg>\n",
              "      </button>\n",
              "      \n",
              "  <style>\n",
              "    .colab-df-container {\n",
              "      display:flex;\n",
              "      flex-wrap:wrap;\n",
              "      gap: 12px;\n",
              "    }\n",
              "\n",
              "    .colab-df-convert {\n",
              "      background-color: #E8F0FE;\n",
              "      border: none;\n",
              "      border-radius: 50%;\n",
              "      cursor: pointer;\n",
              "      display: none;\n",
              "      fill: #1967D2;\n",
              "      height: 32px;\n",
              "      padding: 0 0 0 0;\n",
              "      width: 32px;\n",
              "    }\n",
              "\n",
              "    .colab-df-convert:hover {\n",
              "      background-color: #E2EBFA;\n",
              "      box-shadow: 0px 1px 2px rgba(60, 64, 67, 0.3), 0px 1px 3px 1px rgba(60, 64, 67, 0.15);\n",
              "      fill: #174EA6;\n",
              "    }\n",
              "\n",
              "    [theme=dark] .colab-df-convert {\n",
              "      background-color: #3B4455;\n",
              "      fill: #D2E3FC;\n",
              "    }\n",
              "\n",
              "    [theme=dark] .colab-df-convert:hover {\n",
              "      background-color: #434B5C;\n",
              "      box-shadow: 0px 1px 3px 1px rgba(0, 0, 0, 0.15);\n",
              "      filter: drop-shadow(0px 1px 2px rgba(0, 0, 0, 0.3));\n",
              "      fill: #FFFFFF;\n",
              "    }\n",
              "  </style>\n",
              "\n",
              "      <script>\n",
              "        const buttonEl =\n",
              "          document.querySelector('#df-bc827e43-7123-42e2-b6e4-ea7932deda10 button.colab-df-convert');\n",
              "        buttonEl.style.display =\n",
              "          google.colab.kernel.accessAllowed ? 'block' : 'none';\n",
              "\n",
              "        async function convertToInteractive(key) {\n",
              "          const element = document.querySelector('#df-bc827e43-7123-42e2-b6e4-ea7932deda10');\n",
              "          const dataTable =\n",
              "            await google.colab.kernel.invokeFunction('convertToInteractive',\n",
              "                                                     [key], {});\n",
              "          if (!dataTable) return;\n",
              "\n",
              "          const docLinkHtml = 'Like what you see? Visit the ' +\n",
              "            '<a target=\"_blank\" href=https://colab.research.google.com/notebooks/data_table.ipynb>data table notebook</a>'\n",
              "            + ' to learn more about interactive tables.';\n",
              "          element.innerHTML = '';\n",
              "          dataTable['output_type'] = 'display_data';\n",
              "          await google.colab.output.renderOutput(dataTable, element);\n",
              "          const docLink = document.createElement('div');\n",
              "          docLink.innerHTML = docLinkHtml;\n",
              "          element.appendChild(docLink);\n",
              "        }\n",
              "      </script>\n",
              "    </div>\n",
              "  </div>\n",
              "  "
            ]
          },
          "metadata": {},
          "execution_count": 90
        }
      ]
    },
    {
      "cell_type": "code",
      "source": [
        "def preprocess_data(data):\n",
        "    # Remove package name as it's not relevant\n",
        "    data = data.drop('Unnamed: 0', axis=1)\n",
        "    \n",
        "    # Convert text to lowercase\n",
        "    data['text'] = data['text'].str.strip().str.lower()\n",
        "    return data"
      ],
      "metadata": {
        "id": "EkGNhcNnUYOy"
      },
      "execution_count": 93,
      "outputs": []
    },
    {
      "cell_type": "code",
      "source": [
        "data = preprocess_data(data)"
      ],
      "metadata": {
        "id": "TwS7f4STUb1D"
      },
      "execution_count": 94,
      "outputs": []
    },
    {
      "cell_type": "code",
      "source": [
        "# Split into training and testing data\n",
        "x = data['text']\n",
        "y = data['review_score']\n",
        "x, x_test, y, y_test = train_test_split(x,y, stratify=y, test_size=0.25, random_state=42)"
      ],
      "metadata": {
        "id": "lC05Nh2aUhzI"
      },
      "execution_count": 95,
      "outputs": []
    },
    {
      "cell_type": "code",
      "source": [
        "from collections import Counter\n",
        "\n",
        "def count_words(text):\t\t\t\t\n",
        "\tskips = [\".\", \", \", \":\", \";\", \"'\", '\"']\n",
        "\tfor ch in skips:\n",
        "\t\ttext = text.replace(ch, \"\")\n",
        "\tword_counts = {}\n",
        "\tfor word in text.split(\" \"):\n",
        "\t\tif word in word_counts:\n",
        "\t\t\tword_counts[word]+= 1\n",
        "\t\telse:\n",
        "\t\t\tword_counts[word]= 1\n",
        "\treturn word_counts\n",
        "\n",
        "\t\n",
        "def count_words_fast(text):\t\n",
        "\ttext = text.lower()\n",
        "\tskips = [\".\", \", \", \":\", \";\", \"'\", '\"']\n",
        "\tfor ch in skips:\n",
        "\t\ttext = text.replace(ch, \"\")\n",
        "\tword_counts = Counter(text.split(\" \"))\n",
        "\treturn word_counts\n",
        "\n",
        "\t"
      ],
      "metadata": {
        "id": "5NaIfwOOU6mT"
      },
      "execution_count": 103,
      "outputs": []
    },
    {
      "cell_type": "code",
      "source": [
        "# Split the dataset by class values, returns a dictionary\n",
        "def separate_by_class(dataset):\n",
        "\tseparated = dict()\n",
        "\tfor i in range(len(dataset)):\n",
        "\t\tvector = dataset[i]\n",
        "\t\tclass_value = vector[-1]\n",
        "\t\tif (class_value not in separated):\n",
        "\t\t\tseparated[class_value] = list()\n",
        "\t\tseparated[class_value].append(vector)\n",
        "\treturn separated"
      ],
      "metadata": {
        "id": "FtL8CjtIdFEo"
      },
      "execution_count": 114,
      "outputs": []
    },
    {
      "cell_type": "code",
      "source": [
        "# Example of separating data by class value\n",
        "\n",
        "# Split the dataset by class values, returns a dictionary\n",
        "def separate_by_class(dataset):\n",
        "\tseparated = dict()\n",
        "\tfor i in range(len(dataset)):\n",
        "\t\tvector = dataset[i]\n",
        "\t\tclass_value = vector[-1]\n",
        "\t\tif (class_value not in separated):\n",
        "\t\t\tseparated[class_value] = list()\n",
        "\t\tseparated[class_value].append(vector)\n",
        "\treturn separated\n",
        "\n",
        "# Test separating data by class\n",
        "dataset = [[3.393533211,2.331273381,0],\n",
        "\t[3.110073483,1.781539638,0],\n",
        "\t[1.343808831,3.368360954,0],\n",
        "\t[3.582294042,4.67917911,0],\n",
        "\t[2.280362439,2.866990263,0],\n",
        "\t[7.423436942,4.696522875,1],\n",
        "\t[5.745051997,3.533989803,1],\n",
        "\t[9.172168622,2.511101045,1],\n",
        "\t[7.792783481,3.424088941,1],\n",
        "\t[7.939820817,0.791637231,1]]\n",
        "separated = separate_by_class(dataset)\n",
        "for label in separated:\n",
        "\tprint(label)\n",
        "\tfor row in separated[label]:\n",
        "\t\tprint(row)"
      ],
      "metadata": {
        "colab": {
          "base_uri": "https://localhost:8080/"
        },
        "id": "-2k_UCYTdQh7",
        "outputId": "1410c777-931b-487f-8d1b-5f6842e86fcf"
      },
      "execution_count": 116,
      "outputs": [
        {
          "output_type": "stream",
          "name": "stdout",
          "text": [
            "0\n",
            "[3.393533211, 2.331273381, 0]\n",
            "[3.110073483, 1.781539638, 0]\n",
            "[1.343808831, 3.368360954, 0]\n",
            "[3.582294042, 4.67917911, 0]\n",
            "[2.280362439, 2.866990263, 0]\n",
            "1\n",
            "[7.423436942, 4.696522875, 1]\n",
            "[5.745051997, 3.533989803, 1]\n",
            "[9.172168622, 2.511101045, 1]\n",
            "[7.792783481, 3.424088941, 1]\n",
            "[7.939820817, 0.791637231, 1]\n"
          ]
        }
      ]
    },
    {
      "cell_type": "code",
      "source": [
        "# Calculate the mean of a list of numbers\n",
        "def mean(numbers):\n",
        "\treturn sum(numbers)/float(len(numbers))"
      ],
      "metadata": {
        "id": "yfZeu_NsdWUX"
      },
      "execution_count": 117,
      "outputs": []
    },
    {
      "cell_type": "code",
      "source": [
        "from math import sqrt\n",
        "\n",
        "# Calculate the standard deviation of a list of numbers\n",
        "def stdev(numbers):\n",
        "\tavg = mean(numbers)\n",
        "\tvariance = sum([(x-avg)**2 for x in numbers]) / float(len(numbers)-1)\n",
        "\treturn sqrt(variance)"
      ],
      "metadata": {
        "id": "VV0CITpMdb4B"
      },
      "execution_count": 118,
      "outputs": []
    },
    {
      "cell_type": "code",
      "source": [
        "# Example of summarizing a dataset\n",
        "from math import sqrt\n",
        "\n",
        "# Calculate the mean of a list of numbers\n",
        "def mean(numbers):\n",
        "\treturn sum(numbers)/float(len(numbers))\n",
        "\n",
        "# Calculate the standard deviation of a list of numbers\n",
        "def stdev(numbers):\n",
        "\tavg = mean(numbers)\n",
        "\tvariance = sum([(x-avg)**2 for x in numbers]) / float(len(numbers)-1)\n",
        "\treturn sqrt(variance)\n",
        "\n",
        "# Calculate the mean, stdev and count for each column in a dataset\n",
        "def summarize_dataset(dataset):\n",
        "\tsummaries = [(mean(column), stdev(column), len(column)) for column in zip(*dataset)]\n",
        "\tdel(summaries[-1])\n",
        "\treturn summaries\n",
        "\n",
        "# Test summarizing a dataset\n",
        "dataset = [[3.393533211,2.331273381,0],\n",
        "\t[3.110073483,1.781539638,0],\n",
        "\t[1.343808831,3.368360954,0],\n",
        "\t[3.582294042,4.67917911,0],\n",
        "\t[2.280362439,2.866990263,0],\n",
        "\t[7.423436942,4.696522875,1],\n",
        "\t[5.745051997,3.533989803,1],\n",
        "\t[9.172168622,2.511101045,1],\n",
        "\t[7.792783481,3.424088941,1],\n",
        "\t[7.939820817,0.791637231,1]]\n",
        "summary = summarize_dataset(dataset)\n",
        "print(summary)"
      ],
      "metadata": {
        "colab": {
          "base_uri": "https://localhost:8080/"
        },
        "id": "Us6aVD8_dep4",
        "outputId": "144b7b88-10b5-4d35-f9bb-82b8fcf2ec99"
      },
      "execution_count": 119,
      "outputs": [
        {
          "output_type": "stream",
          "name": "stdout",
          "text": [
            "[(5.178333386499999, 2.7665845055177263, 10), (2.9984683241, 1.218556343617447, 10)]\n"
          ]
        }
      ]
    },
    {
      "cell_type": "code",
      "source": [
        "# Split dataset by class then calculate statistics for each row\n",
        "def summarize_by_class(dataset):\n",
        "\tseparated = separate_by_class(dataset)\n",
        "\tsummaries = dict()\n",
        "\tfor class_value, rows in separated.items():\n",
        "\t\tsummaries[class_value] = summarize_dataset(rows)\n",
        "\treturn summaries"
      ],
      "metadata": {
        "id": "7DnCi4xndjgo"
      },
      "execution_count": 120,
      "outputs": []
    },
    {
      "cell_type": "code",
      "source": [
        "# Example of summarizing data by class value\n",
        "from math import sqrt\n",
        "\n",
        "# Split the dataset by class values, returns a dictionary\n",
        "def separate_by_class(dataset):\n",
        "\tseparated = dict()\n",
        "\tfor i in range(len(dataset)):\n",
        "\t\tvector = dataset[i]\n",
        "\t\tclass_value = vector[-1]\n",
        "\t\tif (class_value not in separated):\n",
        "\t\t\tseparated[class_value] = list()\n",
        "\t\tseparated[class_value].append(vector)\n",
        "\treturn separated\n",
        "\n",
        "# Calculate the mean of a list of numbers\n",
        "def mean(numbers):\n",
        "\treturn sum(numbers)/float(len(numbers))\n",
        "\n",
        "# Calculate the standard deviation of a list of numbers\n",
        "def stdev(numbers):\n",
        "\tavg = mean(numbers)\n",
        "\tvariance = sum([(x-avg)**2 for x in numbers]) / float(len(numbers)-1)\n",
        "\treturn sqrt(variance)\n",
        "\n",
        "# Calculate the mean, stdev and count for each column in a dataset\n",
        "def summarize_dataset(dataset):\n",
        "\tsummaries = [(mean(column), stdev(column), len(column)) for column in zip(*dataset)]\n",
        "\tdel(summaries[-1])\n",
        "\treturn summaries\n",
        "\n",
        "# Split dataset by class then calculate statistics for each row\n",
        "def summarize_by_class(dataset):\n",
        "\tseparated = separate_by_class(dataset)\n",
        "\tsummaries = dict()\n",
        "\tfor class_value, rows in separated.items():\n",
        "\t\tsummaries[class_value] = summarize_dataset(rows)\n",
        "\treturn summaries\n",
        "\n",
        "# Test summarizing by class\n",
        "dataset = [[3.393533211,2.331273381,0],\n",
        "\t[3.110073483,1.781539638,0],\n",
        "\t[1.343808831,3.368360954,0],\n",
        "\t[3.582294042,4.67917911,0],\n",
        "\t[2.280362439,2.866990263,0],\n",
        "\t[7.423436942,4.696522875,1],\n",
        "\t[5.745051997,3.533989803,1],\n",
        "\t[9.172168622,2.511101045,1],\n",
        "\t[7.792783481,3.424088941,1],\n",
        "\t[7.939820817,0.791637231,1]]\n",
        "summary = summarize_by_class(dataset)\n",
        "for label in summary:\n",
        "\tprint(label)\n",
        "\tfor row in summary[label]:\n",
        "\t\tprint(row)"
      ],
      "metadata": {
        "colab": {
          "base_uri": "https://localhost:8080/"
        },
        "id": "5xoQEatzdnsI",
        "outputId": "5e09deb6-d9c9-4854-deb0-f13181b615aa"
      },
      "execution_count": 121,
      "outputs": [
        {
          "output_type": "stream",
          "name": "stdout",
          "text": [
            "0\n",
            "(2.7420144012, 0.9265683289298018, 5)\n",
            "(3.0054686692, 1.1073295894898725, 5)\n",
            "1\n",
            "(7.6146523718, 1.2344321550313704, 5)\n",
            "(2.9914679790000003, 1.4541931384601618, 5)\n"
          ]
        }
      ]
    },
    {
      "cell_type": "code",
      "source": [
        "# Calculate the Gaussian probability distribution function for x\n",
        "def calculate_probability(x, mean, stdev):\n",
        "\texponent = exp(-((x-mean)**2 / (2 * stdev**2 )))\n",
        "\treturn (1 / (sqrt(2 * pi) * stdev)) * exponent"
      ],
      "metadata": {
        "id": "4CPigIw4d39A"
      },
      "execution_count": 122,
      "outputs": []
    },
    {
      "cell_type": "code",
      "source": [
        "# Example of Gaussian PDF\n",
        "from math import sqrt\n",
        "from math import pi\n",
        "from math import exp\n",
        "\n",
        "# Calculate the Gaussian probability distribution function for x\n",
        "def calculate_probability(x, mean, stdev):\n",
        "\texponent = exp(-((x-mean)**2 / (2 * stdev**2 )))\n",
        "\treturn (1 / (sqrt(2 * pi) * stdev)) * exponent\n",
        "\n",
        "# Test Gaussian PDF\n",
        "print(calculate_probability(1.0, 1.0, 1.0))\n",
        "print(calculate_probability(2.0, 1.0, 1.0))\n",
        "print(calculate_probability(0.0, 1.0, 1.0))"
      ],
      "metadata": {
        "colab": {
          "base_uri": "https://localhost:8080/"
        },
        "id": "HeHu2kv4d8WQ",
        "outputId": "40e8efe4-b6a4-4eed-e391-27f54e62feef"
      },
      "execution_count": 123,
      "outputs": [
        {
          "output_type": "stream",
          "name": "stdout",
          "text": [
            "0.3989422804014327\n",
            "0.24197072451914337\n",
            "0.24197072451914337\n"
          ]
        }
      ]
    },
    {
      "cell_type": "code",
      "source": [
        "# Calculate the probabilities of predicting each class for a given row\n",
        "def calculate_class_probabilities(summaries, row):\n",
        "\ttotal_rows = sum([summaries[label][0][2] for label in summaries])\n",
        "\tprobabilities = dict()\n",
        "\tfor class_value, class_summaries in summaries.items():\n",
        "\t\tprobabilities[class_value] = summaries[class_value][0][2]/float(total_rows)\n",
        "\t\tfor i in range(len(class_summaries)):\n",
        "\t\t\tmean, stdev, count = class_summaries[i]\n",
        "\t\t\tprobabilities[class_value] *= calculate_probability(row[i], mean, stdev)\n",
        "\treturn probabilities"
      ],
      "metadata": {
        "id": "Ru6BoJ7XeAd4"
      },
      "execution_count": 124,
      "outputs": []
    },
    {
      "cell_type": "code",
      "source": [
        "# Example of calculating class probabilities\n",
        "from math import sqrt\n",
        "from math import pi\n",
        "from math import exp\n",
        "\n",
        "# Split the dataset by class values, returns a dictionary\n",
        "def separate_by_class(dataset):\n",
        "\tseparated = dict()\n",
        "\tfor i in range(len(dataset)):\n",
        "\t\tvector = dataset[i]\n",
        "\t\tclass_value = vector[-1]\n",
        "\t\tif (class_value not in separated):\n",
        "\t\t\tseparated[class_value] = list()\n",
        "\t\tseparated[class_value].append(vector)\n",
        "\treturn separated\n",
        "\n",
        "# Calculate the mean of a list of numbers\n",
        "def mean(numbers):\n",
        "\treturn sum(numbers)/float(len(numbers))\n",
        "\n",
        "# Calculate the standard deviation of a list of numbers\n",
        "def stdev(numbers):\n",
        "\tavg = mean(numbers)\n",
        "\tvariance = sum([(x-avg)**2 for x in numbers]) / float(len(numbers)-1)\n",
        "\treturn sqrt(variance)\n",
        "\n",
        "# Calculate the mean, stdev and count for each column in a dataset\n",
        "def summarize_dataset(dataset):\n",
        "\tsummaries = [(mean(column), stdev(column), len(column)) for column in zip(*dataset)]\n",
        "\tdel(summaries[-1])\n",
        "\treturn summaries\n",
        "\n",
        "# Split dataset by class then calculate statistics for each row\n",
        "def summarize_by_class(dataset):\n",
        "\tseparated = separate_by_class(dataset)\n",
        "\tsummaries = dict()\n",
        "\tfor class_value, rows in separated.items():\n",
        "\t\tsummaries[class_value] = summarize_dataset(rows)\n",
        "\treturn summaries\n",
        "\n",
        "# Calculate the Gaussian probability distribution function for x\n",
        "def calculate_probability(x, mean, stdev):\n",
        "\texponent = exp(-((x-mean)**2 / (2 * stdev**2 )))\n",
        "\treturn (1 / (sqrt(2 * pi) * stdev)) * exponent\n",
        "\n",
        "# Calculate the probabilities of predicting each class for a given row\n",
        "def calculate_class_probabilities(summaries, row):\n",
        "\ttotal_rows = sum([summaries[label][0][2] for label in summaries])\n",
        "\tprobabilities = dict()\n",
        "\tfor class_value, class_summaries in summaries.items():\n",
        "\t\tprobabilities[class_value] = summaries[class_value][0][2]/float(total_rows)\n",
        "\t\tfor i in range(len(class_summaries)):\n",
        "\t\t\tmean, stdev, _ = class_summaries[i]\n",
        "\t\t\tprobabilities[class_value] *= calculate_probability(row[i], mean, stdev)\n",
        "\treturn probabilities\n",
        "\n",
        "# Test calculating class probabilities\n",
        "dataset = [[3.393533211,2.331273381,0],\n",
        "\t[3.110073483,1.781539638,0],\n",
        "\t[1.343808831,3.368360954,0],\n",
        "\t[3.582294042,4.67917911,0],\n",
        "\t[2.280362439,2.866990263,0],\n",
        "\t[7.423436942,4.696522875,1],\n",
        "\t[5.745051997,3.533989803,1],\n",
        "\t[9.172168622,2.511101045,1],\n",
        "\t[7.792783481,3.424088941,1],\n",
        "\t[7.939820817,0.791637231,1]]\n",
        "summaries = summarize_by_class(dataset)\n",
        "probabilities = calculate_class_probabilities(summaries, dataset[0])\n",
        "print(probabilities)"
      ],
      "metadata": {
        "colab": {
          "base_uri": "https://localhost:8080/"
        },
        "id": "5WHrlh9eeDjJ",
        "outputId": "69b126cb-2e21-4147-db0e-1353f3e4aa8e"
      },
      "execution_count": 127,
      "outputs": [
        {
          "output_type": "stream",
          "name": "stdout",
          "text": [
            "{0: 0.05032427673372076, 1: 0.00011557718379945765}\n"
          ]
        }
      ]
    },
    {
      "cell_type": "code",
      "source": [
        "# load the iris dataset\n",
        "from sklearn.datasets import load_iris\n",
        "iris = load_iris()\n",
        "\n",
        "# store the feature matrix (X) and response vector (y)\n",
        "X = iris.data\n",
        "y = iris.target\n",
        "\n",
        "# splitting X and y into training and testing sets\n",
        "from sklearn.model_selection import train_test_split\n",
        "X_train, X_test, y_train, y_test = train_test_split(X, y, test_size=0.4, random_state=1)\n",
        "\n",
        "# training the model on training set\n",
        "from sklearn.naive_bayes import GaussianNB\n",
        "gnb = GaussianNB()\n",
        "gnb.fit(X_train, y_train)\n",
        "\n",
        "# making predictions on the testing set\n",
        "y_pred = gnb.predict(X_test)\n",
        "\n",
        "# comparing actual response values (y_test) with predicted response values (y_pred)\n",
        "from sklearn import metrics\n",
        "print(\"Gaussian Naive Bayes model accuracy(in %):\", metrics.accuracy_score(y_test, y_pred)*100)\n"
      ],
      "metadata": {
        "colab": {
          "base_uri": "https://localhost:8080/"
        },
        "id": "WPo4pZNCep-H",
        "outputId": "4b7001b3-60e3-4999-8c5e-de5292efe86b"
      },
      "execution_count": 128,
      "outputs": [
        {
          "output_type": "stream",
          "name": "stdout",
          "text": [
            "Gaussian Naive Bayes model accuracy(in %): 95.0\n"
          ]
        }
      ]
    },
    {
      "cell_type": "code",
      "source": [
        "# import SentimentIntensityAnalyzer class\n",
        "# from vaderSentiment.vaderSentiment module.\n",
        "from vaderSentiment.vaderSentiment import SentimentIntensityAnalyzer\n",
        "\n",
        "# function to print sentiments\n",
        "# of the sentence.\n",
        "def sentiment_scores(sentence):\n",
        "\n",
        "\t# Create a SentimentIntensityAnalyzer object.\n",
        "\tsid_obj = SentimentIntensityAnalyzer()\n",
        "\n",
        "\t# polarity_scores method of SentimentIntensityAnalyzer\n",
        "\t# object gives a sentiment dictionary.\n",
        "\t# which contains pos, neg, neu, and compound scores.\n",
        "\tsentiment_dict = sid_obj.polarity_scores(sentence)\n",
        "\t\n",
        "\tprint(\"Overall sentiment dictionary is : \", sentiment_dict)\n",
        "\tprint(\"sentence was rated as \", sentiment_dict['neg']*100, \"% Negative\")\n",
        "\tprint(\"sentence was rated as \", sentiment_dict['neu']*100, \"% Neutral\")\n",
        "\tprint(\"sentence was rated as \", sentiment_dict['pos']*100, \"% Positive\")\n",
        "\n",
        "\tprint(\"Sentence Overall Rated As\", end = \" \")\n",
        "\n",
        "\t# decide sentiment as positive, negative and neutral\n",
        "\tif sentiment_dict['compound'] >= 0.05 :\n",
        "\t\tprint(\"Positive\")\n",
        "\n",
        "\telif sentiment_dict['compound'] <= - 0.05 :\n",
        "\t\tprint(\"Negative\")\n",
        "\n",
        "\telse :\n",
        "\t\tprint(\"Neutral\")\n",
        "\n",
        "\n",
        "\n",
        "# Driver code\n",
        "if __name__ == \"__main__\" :\n",
        "\n",
        "\tprint(\"\\n1st statement :\")\n",
        "\tsentence = \"Extrapolation and learning equations. In classical machine learning, regression is treated as a black box process of identifying a suitable function from a hypothesis set without attempting to gain insight into the mechanism connecting inputs and outputs. In the natural sciences, however, finding an interpretable function for a phenomenon is the prime goal as it allows to understand and generalize results. This paper proposes a novel type of function learning network, called equation learner (EQL), that can learn analytical expressions and is able to extrapolate to unseen domains. It is implemented as an end-to-end differentiable feed-forward network and allows for efficient gradient based training. Due to sparsity regularization concise interpretable expressions can be obtained. Often the true underlying source expression is identified.. Thank you for an interesting perspective on the neural approaches to approximate physical phenomenon. This paper describes a method to extrapolate a given dataset and predict formulae with naturally occurring functions like sine, cosine, multiplication etc. Pros - The approach is rather simple and hence can be applied to existing methods. The major difference is incorporating functions with 2 or more inputs which was done successfully in the paper. - It seems that MLP, even though it is good for interpolation, it fails to extrapolate data to model the correct function. It was a great idea to use basis functions like sine, cosine to make the approach more explicit. Cons - Page 8, the claim that x2 cos(ax1 + b) ~ 1.21(cos(-ax1 + ? + b + 0.41x2) + sin(ax1 + b + 0.41x2)) for y in [-2,2] is not entirely correct. There should be some restrictions on *a* and *b* as well as the approximate equality doesn*t hold for all real values of *a* and *b*. Although, for a=2*pi and b=pi/4, the claim is correct so the model is predicting a correct solution within certain limits. - Most of the experiments involve up to 4 variables. It would be interesting to see how the neural approach models hundreds of variables. - Another way of looking at the model is that the non-linearities like sine, cosine, multiplication act as basis functions. If the data is a linear combination of such functions, the model will be able to learn the weights. As division is not one of the non-linearities, predicting expressions in Equation 13 seems unlikely. Hence, I was wondering, is it possible to make sure that this architecture is a universal approximator. Suggested Edits - Page 8, It seems that there is a typographical error in the expression 1.21(cos(ax1 + ? + b + 0.41x2) + sin(ax1 + b + 0.41x2)). When compared with the predicted formula in Figure 4(b), it should be 1.21(cos(-ax1 + ? + b + 0.41x2) + sin(ax1 + b + 0.41x2)).. This paper proposes using functions such as sin and cos as basis functions, then training a neural network with L1 regularization to obtain a simple estimate of functions that can extrapolate under some circumstances. Pros: - the paper has a wide-ranging discussion connecting extrapolation in regression problems to adjacent fields of system identification and causal learning. - the method is sensible enough, and should probably be a baseline in the time-series literature. It also seems like an advance on the hard-to-optimize Eureqa method. Cons: I agree with the authors that Reviewer 5*s comments aren*t very helpful, but this paper really does ignore or dismiss a lot of recent progress and related methods. Specifically: - The authors claim that cross-validation can*t be used to choose the model, since it wouldn*t encourage extrapolation - but why not partition the data in contiguous chunks, as is done in time-series methods? - The authors introduce an annealing trick to help with the L1 objective, but there is a rich literature on gradient-based optimization methods with L1 regularization that address exactly this problem. - The authors mostly consider toy data, limiting the potential impact of their method. - The authors don*t compare against closely related methods developed to address the exact same setting. Namely, Schmit + Lipson*s Eureqa method, and the Gaussian process methods of Duvenaud, Lloyd, Grosse, Tenenbaum and Ghahramani. - The authors invent their own ad-hoc model-selection procedure, again ignoring a massive literature. Given the many *cons*, it is recommended that this paper not be presented at the conference track, but be featured at the workshop track. \"\n",
        "\n",
        "\t# function calling\n",
        "\tsentiment_scores(sentence)\n",
        "\n",
        "\t\n",
        "\tprint(\"\\n3rd Statement :\")\n",
        "\tsentence = \"Revisiting Denoising Auto-Encoders. Denoising auto-encoders (DAE)s were proposed as a simple yet powerful way to obtain representations in an unsupervised manner by learning a map that approximates the clean inputs from their corrupted versions. However, the original objective function proposed for DAEs does not guarantee that denoising happens only at the encoding stages. We argue that a better representation can be obtained if the encoder is forced to carry out most of the denoising effort. Here, we propose a simple modification to the DAE*s objective function that accomplishes the above goal.. The paper proposes a modified DAE objective where it is the mapped representation of the corrupted input that is pushed closer to the representation of the uncorrupted input. This thus borrows from both denoising (DAE) for the stochasticity and from the contractive (CAE) auto-encoders objectives (which the paper doesn’t compare to) for the representational closeness, and as such appears rather incremental. In common with the CAE, a collapse of the representation can only be avoided by additional external constraints, such as tied weights, batch normalization or other normalization heuristics. While I appreciates that the authors added a paragraph discussing this point and the usual remediations after I had raised it in an earlier question, I think it would deserve a proper formal treatment. Note that such external constraints do not seem to arise from the information-theoretic formalism as articulated by the authors. This casts doubt regarding the validity or completeness of the proposed formal motivation as currently exposed. What the extra regularization does from an information-theoretic perspective remains unclearly articulated (e.g. interpretation of lambda strength?). On the experimental front, empirical support for the approach is very weak: few experiments on synthetic and small scale data. The modified DAE*s test errors on MNIST are larger than those of Original DAE all the time expect for one precise setting of lambda, and then the original DAE performance is still within the displayed error-bar of the modified DAE. So, it is unclear whether the improvement is actually statistically significant.. The proposed modification of the denoising autoencoder objective is interesting. Shifting some of the burden to the encoder has potential, but the authors need to to show that this burden cannot be transferred to the decoder; they propose some ways of doing this in their response, but these should be explored. And more convincing, larger-scale results are needed.\"\n",
        "\tsentiment_scores(sentence)\n"
      ],
      "metadata": {
        "colab": {
          "base_uri": "https://localhost:8080/"
        },
        "id": "G__EVqNDW1lB",
        "outputId": "f6ee05c6-ba92-4580-ba64-94bdd56cb69c"
      },
      "execution_count": 113,
      "outputs": [
        {
          "output_type": "stream",
          "name": "stdout",
          "text": [
            "\n",
            "1st statement :\n",
            "Overall sentiment dictionary is :  {'neg': 0.029, 'neu': 0.891, 'pos': 0.08, 'compound': 0.9834}\n",
            "sentence was rated as  2.9000000000000004 % Negative\n",
            "sentence was rated as  89.1 % Neutral\n",
            "sentence was rated as  8.0 % Positive\n",
            "Sentence Overall Rated As Positive\n",
            "\n",
            "3rd Statement :\n",
            "Overall sentiment dictionary is :  {'neg': 0.056, 'neu': 0.874, 'pos': 0.07, 'compound': 0.6073}\n",
            "sentence was rated as  5.6000000000000005 % Negative\n",
            "sentence was rated as  87.4 % Neutral\n",
            "sentence was rated as  7.000000000000001 % Positive\n",
            "Sentence Overall Rated As Positive\n"
          ]
        }
      ]
    }
  ]
}